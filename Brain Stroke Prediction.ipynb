{
 "cells": [
  {
   "cell_type": "code",
   "execution_count": 4,
   "id": "73c0526c",
   "metadata": {
    "id": "60ASVCXzweux",
    "papermill": {
     "duration": 2.706674,
     "end_time": "2023-10-25T09:24:58.420211",
     "exception": false,
     "start_time": "2023-10-25T09:24:55.713537",
     "status": "completed"
    },
    "tags": []
   },
   "outputs": [],
   "source": [
    "#import libraries\n",
    "import numpy as np\n",
    "import pandas as pd\n",
    "import matplotlib.pyplot as plt\n",
    "import seaborn as sns"
   ]
  },
  {
   "cell_type": "code",
   "execution_count": 6,
   "id": "473d0085",
   "metadata": {
    "id": "mn9-DWVe0CwJ",
    "papermill": {
     "duration": 0.079332,
     "end_time": "2023-10-25T09:24:58.525619",
     "exception": false,
     "start_time": "2023-10-25T09:24:58.446287",
     "status": "completed"
    },
    "tags": []
   },
   "outputs": [],
   "source": [
    "# loading the csv data to a Pandas DataFrame\n",
    "data = pd.read_csv('Final Project - Group 3 - Brain Stroke prediction Dataset.csv')"
   ]
  },
  {
   "cell_type": "code",
   "execution_count": 7,
   "id": "fbd58c03",
   "metadata": {
    "id": "nFPLQkzN0N4p",
    "outputId": "e521a2f8-6a3c-4d75-def3-9fc6ac218ea3",
    "papermill": {
     "duration": 0.062403,
     "end_time": "2023-10-25T09:24:58.615460",
     "exception": false,
     "start_time": "2023-10-25T09:24:58.553057",
     "status": "completed"
    },
    "tags": []
   },
   "outputs": [
    {
     "data": {
      "text/html": [
       "<div>\n",
       "<style scoped>\n",
       "    .dataframe tbody tr th:only-of-type {\n",
       "        vertical-align: middle;\n",
       "    }\n",
       "\n",
       "    .dataframe tbody tr th {\n",
       "        vertical-align: top;\n",
       "    }\n",
       "\n",
       "    .dataframe thead th {\n",
       "        text-align: right;\n",
       "    }\n",
       "</style>\n",
       "<table border=\"1\" class=\"dataframe\">\n",
       "  <thead>\n",
       "    <tr style=\"text-align: right;\">\n",
       "      <th></th>\n",
       "      <th>gender</th>\n",
       "      <th>age</th>\n",
       "      <th>hypertension</th>\n",
       "      <th>heart_disease</th>\n",
       "      <th>ever_married</th>\n",
       "      <th>work_type</th>\n",
       "      <th>Residence_type</th>\n",
       "      <th>avg_glucose_level</th>\n",
       "      <th>bmi</th>\n",
       "      <th>smoking_status</th>\n",
       "      <th>stroke</th>\n",
       "    </tr>\n",
       "  </thead>\n",
       "  <tbody>\n",
       "    <tr>\n",
       "      <th>0</th>\n",
       "      <td>Male</td>\n",
       "      <td>67.0</td>\n",
       "      <td>0</td>\n",
       "      <td>1</td>\n",
       "      <td>Yes</td>\n",
       "      <td>Private</td>\n",
       "      <td>Urban</td>\n",
       "      <td>228.69</td>\n",
       "      <td>36.6</td>\n",
       "      <td>formerly smoked</td>\n",
       "      <td>1</td>\n",
       "    </tr>\n",
       "    <tr>\n",
       "      <th>1</th>\n",
       "      <td>Male</td>\n",
       "      <td>80.0</td>\n",
       "      <td>0</td>\n",
       "      <td>1</td>\n",
       "      <td>Yes</td>\n",
       "      <td>Private</td>\n",
       "      <td>Rural</td>\n",
       "      <td>105.92</td>\n",
       "      <td>32.5</td>\n",
       "      <td>never smoked</td>\n",
       "      <td>1</td>\n",
       "    </tr>\n",
       "    <tr>\n",
       "      <th>2</th>\n",
       "      <td>Female</td>\n",
       "      <td>49.0</td>\n",
       "      <td>0</td>\n",
       "      <td>0</td>\n",
       "      <td>Yes</td>\n",
       "      <td>Private</td>\n",
       "      <td>Urban</td>\n",
       "      <td>171.23</td>\n",
       "      <td>34.4</td>\n",
       "      <td>smokes</td>\n",
       "      <td>1</td>\n",
       "    </tr>\n",
       "    <tr>\n",
       "      <th>3</th>\n",
       "      <td>Female</td>\n",
       "      <td>79.0</td>\n",
       "      <td>1</td>\n",
       "      <td>0</td>\n",
       "      <td>Yes</td>\n",
       "      <td>Self-employed</td>\n",
       "      <td>Rural</td>\n",
       "      <td>174.12</td>\n",
       "      <td>24.0</td>\n",
       "      <td>never smoked</td>\n",
       "      <td>1</td>\n",
       "    </tr>\n",
       "    <tr>\n",
       "      <th>4</th>\n",
       "      <td>Male</td>\n",
       "      <td>81.0</td>\n",
       "      <td>0</td>\n",
       "      <td>0</td>\n",
       "      <td>Yes</td>\n",
       "      <td>Private</td>\n",
       "      <td>Urban</td>\n",
       "      <td>186.21</td>\n",
       "      <td>29.0</td>\n",
       "      <td>formerly smoked</td>\n",
       "      <td>1</td>\n",
       "    </tr>\n",
       "  </tbody>\n",
       "</table>\n",
       "</div>"
      ],
      "text/plain": [
       "   gender   age  hypertension  heart_disease ever_married      work_type  \\\n",
       "0    Male  67.0             0              1          Yes        Private   \n",
       "1    Male  80.0             0              1          Yes        Private   \n",
       "2  Female  49.0             0              0          Yes        Private   \n",
       "3  Female  79.0             1              0          Yes  Self-employed   \n",
       "4    Male  81.0             0              0          Yes        Private   \n",
       "\n",
       "  Residence_type  avg_glucose_level   bmi   smoking_status  stroke  \n",
       "0          Urban             228.69  36.6  formerly smoked       1  \n",
       "1          Rural             105.92  32.5     never smoked       1  \n",
       "2          Urban             171.23  34.4           smokes       1  \n",
       "3          Rural             174.12  24.0     never smoked       1  \n",
       "4          Urban             186.21  29.0  formerly smoked       1  "
      ]
     },
     "execution_count": 7,
     "metadata": {},
     "output_type": "execute_result"
    }
   ],
   "source": [
    "data.head()"
   ]
  },
  {
   "cell_type": "code",
   "execution_count": 8,
   "id": "6a94e24d",
   "metadata": {
    "id": "gnJBOO3MakKm",
    "papermill": {
     "duration": 0.044197,
     "end_time": "2023-10-25T09:24:58.686107",
     "exception": false,
     "start_time": "2023-10-25T09:24:58.641910",
     "status": "completed"
    },
    "tags": []
   },
   "outputs": [],
   "source": [
    "data.drop(data.index[(data[\"smoking_status\"] == \"Unknown\")],axis=0,inplace=True)"
   ]
  },
  {
   "cell_type": "code",
   "execution_count": 9,
   "id": "a2be1dd5",
   "metadata": {
    "id": "hT-xZrn401TW",
    "outputId": "06c1c54a-e5b4-4c32-cf65-d66f16155923",
    "papermill": {
     "duration": 0.064693,
     "end_time": "2023-10-25T09:24:58.777169",
     "exception": false,
     "start_time": "2023-10-25T09:24:58.712476",
     "status": "completed"
    },
    "tags": []
   },
   "outputs": [
    {
     "data": {
      "text/html": [
       "<div>\n",
       "<style scoped>\n",
       "    .dataframe tbody tr th:only-of-type {\n",
       "        vertical-align: middle;\n",
       "    }\n",
       "\n",
       "    .dataframe tbody tr th {\n",
       "        vertical-align: top;\n",
       "    }\n",
       "\n",
       "    .dataframe thead th {\n",
       "        text-align: right;\n",
       "    }\n",
       "</style>\n",
       "<table border=\"1\" class=\"dataframe\">\n",
       "  <thead>\n",
       "    <tr style=\"text-align: right;\">\n",
       "      <th></th>\n",
       "      <th>age</th>\n",
       "      <th>hypertension</th>\n",
       "      <th>heart_disease</th>\n",
       "      <th>avg_glucose_level</th>\n",
       "      <th>bmi</th>\n",
       "      <th>stroke</th>\n",
       "    </tr>\n",
       "  </thead>\n",
       "  <tbody>\n",
       "    <tr>\n",
       "      <th>count</th>\n",
       "      <td>3481.000000</td>\n",
       "      <td>3481.00000</td>\n",
       "      <td>3481.000000</td>\n",
       "      <td>3481.000000</td>\n",
       "      <td>3481.000000</td>\n",
       "      <td>3481.000000</td>\n",
       "    </tr>\n",
       "    <tr>\n",
       "      <th>mean</th>\n",
       "      <td>49.067509</td>\n",
       "      <td>0.12324</td>\n",
       "      <td>0.065211</td>\n",
       "      <td>108.769155</td>\n",
       "      <td>29.808159</td>\n",
       "      <td>0.057742</td>\n",
       "    </tr>\n",
       "    <tr>\n",
       "      <th>std</th>\n",
       "      <td>18.894255</td>\n",
       "      <td>0.32876</td>\n",
       "      <td>0.246934</td>\n",
       "      <td>48.133475</td>\n",
       "      <td>6.228310</td>\n",
       "      <td>0.233288</td>\n",
       "    </tr>\n",
       "    <tr>\n",
       "      <th>min</th>\n",
       "      <td>10.000000</td>\n",
       "      <td>0.00000</td>\n",
       "      <td>0.000000</td>\n",
       "      <td>55.120000</td>\n",
       "      <td>14.100000</td>\n",
       "      <td>0.000000</td>\n",
       "    </tr>\n",
       "    <tr>\n",
       "      <th>25%</th>\n",
       "      <td>34.000000</td>\n",
       "      <td>0.00000</td>\n",
       "      <td>0.000000</td>\n",
       "      <td>77.450000</td>\n",
       "      <td>25.300000</td>\n",
       "      <td>0.000000</td>\n",
       "    </tr>\n",
       "    <tr>\n",
       "      <th>50%</th>\n",
       "      <td>50.000000</td>\n",
       "      <td>0.00000</td>\n",
       "      <td>0.000000</td>\n",
       "      <td>92.490000</td>\n",
       "      <td>29.100000</td>\n",
       "      <td>0.000000</td>\n",
       "    </tr>\n",
       "    <tr>\n",
       "      <th>75%</th>\n",
       "      <td>64.000000</td>\n",
       "      <td>0.00000</td>\n",
       "      <td>0.000000</td>\n",
       "      <td>116.250000</td>\n",
       "      <td>33.500000</td>\n",
       "      <td>0.000000</td>\n",
       "    </tr>\n",
       "    <tr>\n",
       "      <th>max</th>\n",
       "      <td>82.000000</td>\n",
       "      <td>1.00000</td>\n",
       "      <td>1.000000</td>\n",
       "      <td>271.740000</td>\n",
       "      <td>48.900000</td>\n",
       "      <td>1.000000</td>\n",
       "    </tr>\n",
       "  </tbody>\n",
       "</table>\n",
       "</div>"
      ],
      "text/plain": [
       "               age  hypertension  heart_disease  avg_glucose_level  \\\n",
       "count  3481.000000    3481.00000    3481.000000        3481.000000   \n",
       "mean     49.067509       0.12324       0.065211         108.769155   \n",
       "std      18.894255       0.32876       0.246934          48.133475   \n",
       "min      10.000000       0.00000       0.000000          55.120000   \n",
       "25%      34.000000       0.00000       0.000000          77.450000   \n",
       "50%      50.000000       0.00000       0.000000          92.490000   \n",
       "75%      64.000000       0.00000       0.000000         116.250000   \n",
       "max      82.000000       1.00000       1.000000         271.740000   \n",
       "\n",
       "               bmi       stroke  \n",
       "count  3481.000000  3481.000000  \n",
       "mean     29.808159     0.057742  \n",
       "std       6.228310     0.233288  \n",
       "min      14.100000     0.000000  \n",
       "25%      25.300000     0.000000  \n",
       "50%      29.100000     0.000000  \n",
       "75%      33.500000     0.000000  \n",
       "max      48.900000     1.000000  "
      ]
     },
     "execution_count": 9,
     "metadata": {},
     "output_type": "execute_result"
    }
   ],
   "source": [
    "data.describe()"
   ]
  },
  {
   "cell_type": "code",
   "execution_count": 10,
   "id": "d7092ff6",
   "metadata": {
    "id": "p2_VF0Ge6ONQ",
    "outputId": "0bcd7b37-8f77-4239-f37d-913e3da5c34e",
    "papermill": {
     "duration": 0.043494,
     "end_time": "2023-10-25T09:24:58.847071",
     "exception": false,
     "start_time": "2023-10-25T09:24:58.803577",
     "status": "completed"
    },
    "tags": []
   },
   "outputs": [
    {
     "data": {
      "text/plain": [
       "gender               0\n",
       "age                  0\n",
       "hypertension         0\n",
       "heart_disease        0\n",
       "ever_married         0\n",
       "work_type            0\n",
       "Residence_type       0\n",
       "avg_glucose_level    0\n",
       "bmi                  0\n",
       "smoking_status       0\n",
       "stroke               0\n",
       "dtype: int64"
      ]
     },
     "execution_count": 10,
     "metadata": {},
     "output_type": "execute_result"
    }
   ],
   "source": [
    "#Check the null values in the dataset\n",
    "data.isnull().sum()"
   ]
  },
  {
   "cell_type": "code",
   "execution_count": 11,
   "id": "148f5593",
   "metadata": {
    "id": "l2Mr2bnj6W7g",
    "outputId": "bd774f72-da04-42ae-ba20-47bbf9dbb776",
    "papermill": {
     "duration": 0.052285,
     "end_time": "2023-10-25T09:24:58.926900",
     "exception": false,
     "start_time": "2023-10-25T09:24:58.874615",
     "status": "completed"
    },
    "tags": []
   },
   "outputs": [
    {
     "data": {
      "text/plain": [
       "False"
      ]
     },
     "execution_count": 11,
     "metadata": {},
     "output_type": "execute_result"
    }
   ],
   "source": [
    "# Check for duplicate information\n",
    "data.duplicated().any()"
   ]
  },
  {
   "cell_type": "code",
   "execution_count": 12,
   "id": "9dadf9a7",
   "metadata": {
    "id": "6IkGiCK11CgH",
    "outputId": "a0055524-c2b2-45cc-fa91-f11c02466ac0",
    "papermill": {
     "duration": 0.055599,
     "end_time": "2023-10-25T09:24:59.009607",
     "exception": false,
     "start_time": "2023-10-25T09:24:58.954008",
     "status": "completed"
    },
    "tags": []
   },
   "outputs": [
    {
     "name": "stdout",
     "output_type": "stream",
     "text": [
      "<class 'pandas.core.frame.DataFrame'>\n",
      "Index: 3481 entries, 0 to 4980\n",
      "Data columns (total 11 columns):\n",
      " #   Column             Non-Null Count  Dtype  \n",
      "---  ------             --------------  -----  \n",
      " 0   gender             3481 non-null   object \n",
      " 1   age                3481 non-null   float64\n",
      " 2   hypertension       3481 non-null   int64  \n",
      " 3   heart_disease      3481 non-null   int64  \n",
      " 4   ever_married       3481 non-null   object \n",
      " 5   work_type          3481 non-null   object \n",
      " 6   Residence_type     3481 non-null   object \n",
      " 7   avg_glucose_level  3481 non-null   float64\n",
      " 8   bmi                3481 non-null   float64\n",
      " 9   smoking_status     3481 non-null   object \n",
      " 10  stroke             3481 non-null   int64  \n",
      "dtypes: float64(3), int64(3), object(5)\n",
      "memory usage: 326.3+ KB\n"
     ]
    }
   ],
   "source": [
    "data.info()"
   ]
  },
  {
   "cell_type": "code",
   "execution_count": 13,
   "id": "dfd90608",
   "metadata": {
    "id": "aVCuFnRd1Rl3",
    "outputId": "f7c6d318-e698-44f2-8705-0003e35ba5e5",
    "papermill": {
     "duration": 0.106826,
     "end_time": "2023-10-25T09:24:59.143874",
     "exception": false,
     "start_time": "2023-10-25T09:24:59.037048",
     "status": "completed"
    },
    "tags": []
   },
   "outputs": [
    {
     "data": {
      "text/plain": [
       "gender\n",
       "Female    2099\n",
       "Male      1382\n",
       "Name: count, dtype: int64"
      ]
     },
     "execution_count": 13,
     "metadata": {},
     "output_type": "execute_result"
    }
   ],
   "source": [
    "data['gender'].value_counts()"
   ]
  },
  {
   "cell_type": "code",
   "execution_count": 14,
   "id": "fc437fc6",
   "metadata": {
    "id": "mVRPDdq51HCx",
    "papermill": {
     "duration": 0.043157,
     "end_time": "2023-10-25T09:24:59.215764",
     "exception": false,
     "start_time": "2023-10-25T09:24:59.172607",
     "status": "completed"
    },
    "tags": []
   },
   "outputs": [],
   "source": [
    "data[\"gender\"] = data[\"gender\"].replace(\"Female\", 1).replace(\"Male\", 0)"
   ]
  },
  {
   "cell_type": "code",
   "execution_count": 15,
   "id": "7988075a",
   "metadata": {
    "id": "3tjnIMyJ1w5A",
    "outputId": "25630e2c-cc34-4d6c-e5a9-b29af1971371",
    "papermill": {
     "duration": 0.04196,
     "end_time": "2023-10-25T09:24:59.285549",
     "exception": false,
     "start_time": "2023-10-25T09:24:59.243589",
     "status": "completed"
    },
    "tags": []
   },
   "outputs": [
    {
     "data": {
      "text/plain": [
       "ever_married\n",
       "Yes    2656\n",
       "No      825\n",
       "Name: count, dtype: int64"
      ]
     },
     "execution_count": 15,
     "metadata": {},
     "output_type": "execute_result"
    }
   ],
   "source": [
    "data['ever_married'].value_counts()"
   ]
  },
  {
   "cell_type": "code",
   "execution_count": 16,
   "id": "c319a8ff",
   "metadata": {
    "id": "Gi5_iPwz1uHz",
    "papermill": {
     "duration": 0.045276,
     "end_time": "2023-10-25T09:24:59.358423",
     "exception": false,
     "start_time": "2023-10-25T09:24:59.313147",
     "status": "completed"
    },
    "tags": []
   },
   "outputs": [],
   "source": [
    "data[\"ever_married\"] = data[\"ever_married\"].replace(\"Yes\", 1).replace(\"No\", 0)"
   ]
  },
  {
   "cell_type": "code",
   "execution_count": 17,
   "id": "b14348fb",
   "metadata": {
    "id": "EQ1RfC-82ylA",
    "outputId": "ef006627-8857-45f1-d95d-4be3a66ed6a0",
    "papermill": {
     "duration": 0.040972,
     "end_time": "2023-10-25T09:24:59.426955",
     "exception": false,
     "start_time": "2023-10-25T09:24:59.385983",
     "status": "completed"
    },
    "tags": []
   },
   "outputs": [
    {
     "data": {
      "text/plain": [
       "work_type\n",
       "Private          2237\n",
       "Self-employed     651\n",
       "Govt_job          524\n",
       "children           69\n",
       "Name: count, dtype: int64"
      ]
     },
     "execution_count": 17,
     "metadata": {},
     "output_type": "execute_result"
    }
   ],
   "source": [
    "data['work_type'].value_counts()"
   ]
  },
  {
   "cell_type": "code",
   "execution_count": 18,
   "id": "a52408fe",
   "metadata": {
    "id": "xktKYk_e3l3x",
    "papermill": {
     "duration": 0.046641,
     "end_time": "2023-10-25T09:24:59.501056",
     "exception": false,
     "start_time": "2023-10-25T09:24:59.454415",
     "status": "completed"
    },
    "tags": []
   },
   "outputs": [],
   "source": [
    "data[\"work_type\"] = data[\"work_type\"].replace(\"Private\", 0).replace(\"Self-employed\", 1).replace(\"children\", 2).replace(\"Govt_job\", 3)"
   ]
  },
  {
   "cell_type": "code",
   "execution_count": 19,
   "id": "e4b65b41",
   "metadata": {
    "id": "W6RSBF7123lp",
    "outputId": "9c347490-70a3-4b91-bb0b-e0763d39ff7a",
    "papermill": {
     "duration": 0.043117,
     "end_time": "2023-10-25T09:24:59.572508",
     "exception": false,
     "start_time": "2023-10-25T09:24:59.529391",
     "status": "completed"
    },
    "tags": []
   },
   "outputs": [
    {
     "data": {
      "text/plain": [
       "Residence_type\n",
       "Urban    1774\n",
       "Rural    1707\n",
       "Name: count, dtype: int64"
      ]
     },
     "execution_count": 19,
     "metadata": {},
     "output_type": "execute_result"
    }
   ],
   "source": [
    "data['Residence_type'].value_counts()"
   ]
  },
  {
   "cell_type": "code",
   "execution_count": 20,
   "id": "c664b203",
   "metadata": {
    "id": "HPb-UPIp3BN3",
    "papermill": {
     "duration": 0.043136,
     "end_time": "2023-10-25T09:24:59.644460",
     "exception": false,
     "start_time": "2023-10-25T09:24:59.601324",
     "status": "completed"
    },
    "tags": []
   },
   "outputs": [],
   "source": [
    "data[\"Residence_type\"] = data[\"Residence_type\"].replace(\"Urban\", 1).replace(\"Rural\", 0)"
   ]
  },
  {
   "cell_type": "code",
   "execution_count": 21,
   "id": "9432a68f",
   "metadata": {
    "id": "OyZteQrh24Ei",
    "outputId": "7da0859b-55cd-4708-a629-460a67973ae6",
    "papermill": {
     "duration": 0.042273,
     "end_time": "2023-10-25T09:24:59.714705",
     "exception": false,
     "start_time": "2023-10-25T09:24:59.672432",
     "status": "completed"
    },
    "tags": []
   },
   "outputs": [
    {
     "data": {
      "text/plain": [
       "smoking_status\n",
       "never smoked       1838\n",
       "formerly smoked     867\n",
       "smokes              776\n",
       "Name: count, dtype: int64"
      ]
     },
     "execution_count": 21,
     "metadata": {},
     "output_type": "execute_result"
    }
   ],
   "source": [
    "data['smoking_status'].value_counts()"
   ]
  },
  {
   "cell_type": "code",
   "execution_count": 22,
   "id": "b778dc33",
   "metadata": {
    "id": "LZAELWSs4UM-",
    "papermill": {
     "duration": 0.044655,
     "end_time": "2023-10-25T09:24:59.786992",
     "exception": false,
     "start_time": "2023-10-25T09:24:59.742337",
     "status": "completed"
    },
    "tags": []
   },
   "outputs": [],
   "source": [
    "data[\"smoking_status\"] = data[\"smoking_status\"].replace(\"never smoked\", 0).replace(\"formerly smoked\", 1).replace(\"smokes\", 2)"
   ]
  },
  {
   "cell_type": "code",
   "execution_count": 23,
   "id": "92c64826",
   "metadata": {
    "id": "I2_CDRKw4eWf",
    "outputId": "53313ac8-9b20-4585-9d4f-128a84086bdd",
    "papermill": {
     "duration": 0.051963,
     "end_time": "2023-10-25T09:24:59.866694",
     "exception": false,
     "start_time": "2023-10-25T09:24:59.814731",
     "status": "completed"
    },
    "tags": []
   },
   "outputs": [
    {
     "data": {
      "text/html": [
       "<div>\n",
       "<style scoped>\n",
       "    .dataframe tbody tr th:only-of-type {\n",
       "        vertical-align: middle;\n",
       "    }\n",
       "\n",
       "    .dataframe tbody tr th {\n",
       "        vertical-align: top;\n",
       "    }\n",
       "\n",
       "    .dataframe thead th {\n",
       "        text-align: right;\n",
       "    }\n",
       "</style>\n",
       "<table border=\"1\" class=\"dataframe\">\n",
       "  <thead>\n",
       "    <tr style=\"text-align: right;\">\n",
       "      <th></th>\n",
       "      <th>gender</th>\n",
       "      <th>age</th>\n",
       "      <th>hypertension</th>\n",
       "      <th>heart_disease</th>\n",
       "      <th>ever_married</th>\n",
       "      <th>work_type</th>\n",
       "      <th>Residence_type</th>\n",
       "      <th>avg_glucose_level</th>\n",
       "      <th>bmi</th>\n",
       "      <th>smoking_status</th>\n",
       "      <th>stroke</th>\n",
       "    </tr>\n",
       "  </thead>\n",
       "  <tbody>\n",
       "    <tr>\n",
       "      <th>0</th>\n",
       "      <td>0</td>\n",
       "      <td>67.0</td>\n",
       "      <td>0</td>\n",
       "      <td>1</td>\n",
       "      <td>1</td>\n",
       "      <td>0</td>\n",
       "      <td>1</td>\n",
       "      <td>228.69</td>\n",
       "      <td>36.6</td>\n",
       "      <td>1</td>\n",
       "      <td>1</td>\n",
       "    </tr>\n",
       "    <tr>\n",
       "      <th>1</th>\n",
       "      <td>0</td>\n",
       "      <td>80.0</td>\n",
       "      <td>0</td>\n",
       "      <td>1</td>\n",
       "      <td>1</td>\n",
       "      <td>0</td>\n",
       "      <td>0</td>\n",
       "      <td>105.92</td>\n",
       "      <td>32.5</td>\n",
       "      <td>0</td>\n",
       "      <td>1</td>\n",
       "    </tr>\n",
       "    <tr>\n",
       "      <th>2</th>\n",
       "      <td>1</td>\n",
       "      <td>49.0</td>\n",
       "      <td>0</td>\n",
       "      <td>0</td>\n",
       "      <td>1</td>\n",
       "      <td>0</td>\n",
       "      <td>1</td>\n",
       "      <td>171.23</td>\n",
       "      <td>34.4</td>\n",
       "      <td>2</td>\n",
       "      <td>1</td>\n",
       "    </tr>\n",
       "    <tr>\n",
       "      <th>3</th>\n",
       "      <td>1</td>\n",
       "      <td>79.0</td>\n",
       "      <td>1</td>\n",
       "      <td>0</td>\n",
       "      <td>1</td>\n",
       "      <td>1</td>\n",
       "      <td>0</td>\n",
       "      <td>174.12</td>\n",
       "      <td>24.0</td>\n",
       "      <td>0</td>\n",
       "      <td>1</td>\n",
       "    </tr>\n",
       "    <tr>\n",
       "      <th>4</th>\n",
       "      <td>0</td>\n",
       "      <td>81.0</td>\n",
       "      <td>0</td>\n",
       "      <td>0</td>\n",
       "      <td>1</td>\n",
       "      <td>0</td>\n",
       "      <td>1</td>\n",
       "      <td>186.21</td>\n",
       "      <td>29.0</td>\n",
       "      <td>1</td>\n",
       "      <td>1</td>\n",
       "    </tr>\n",
       "  </tbody>\n",
       "</table>\n",
       "</div>"
      ],
      "text/plain": [
       "   gender   age  hypertension  heart_disease  ever_married  work_type  \\\n",
       "0       0  67.0             0              1             1          0   \n",
       "1       0  80.0             0              1             1          0   \n",
       "2       1  49.0             0              0             1          0   \n",
       "3       1  79.0             1              0             1          1   \n",
       "4       0  81.0             0              0             1          0   \n",
       "\n",
       "   Residence_type  avg_glucose_level   bmi  smoking_status  stroke  \n",
       "0               1             228.69  36.6               1       1  \n",
       "1               0             105.92  32.5               0       1  \n",
       "2               1             171.23  34.4               2       1  \n",
       "3               0             174.12  24.0               0       1  \n",
       "4               1             186.21  29.0               1       1  "
      ]
     },
     "execution_count": 23,
     "metadata": {},
     "output_type": "execute_result"
    }
   ],
   "source": [
    "data.head()"
   ]
  },
  {
   "cell_type": "code",
   "execution_count": 24,
   "id": "7e53242a",
   "metadata": {
    "id": "RdnC4W2FbBLb",
    "outputId": "019d9882-b7fe-4802-af25-6250f518b339",
    "papermill": {
     "duration": 0.041714,
     "end_time": "2023-10-25T09:24:59.936599",
     "exception": false,
     "start_time": "2023-10-25T09:24:59.894885",
     "status": "completed"
    },
    "tags": []
   },
   "outputs": [
    {
     "data": {
      "text/plain": [
       "smoking_status\n",
       "0    1838\n",
       "1     867\n",
       "2     776\n",
       "Name: count, dtype: int64"
      ]
     },
     "execution_count": 24,
     "metadata": {},
     "output_type": "execute_result"
    }
   ],
   "source": [
    "data['smoking_status'].value_counts()"
   ]
  },
  {
   "cell_type": "code",
   "execution_count": 25,
   "id": "2b1522ff",
   "metadata": {
    "id": "X85DkL7L4hdE",
    "outputId": "e05d3686-c47d-49a9-a58e-0c31e62f9faf",
    "papermill": {
     "duration": 0.049236,
     "end_time": "2023-10-25T09:25:00.014875",
     "exception": false,
     "start_time": "2023-10-25T09:24:59.965639",
     "status": "completed"
    },
    "tags": []
   },
   "outputs": [
    {
     "name": "stdout",
     "output_type": "stream",
     "text": [
      "<class 'pandas.core.frame.DataFrame'>\n",
      "Index: 3481 entries, 0 to 4980\n",
      "Data columns (total 11 columns):\n",
      " #   Column             Non-Null Count  Dtype  \n",
      "---  ------             --------------  -----  \n",
      " 0   gender             3481 non-null   int64  \n",
      " 1   age                3481 non-null   float64\n",
      " 2   hypertension       3481 non-null   int64  \n",
      " 3   heart_disease      3481 non-null   int64  \n",
      " 4   ever_married       3481 non-null   int64  \n",
      " 5   work_type          3481 non-null   int64  \n",
      " 6   Residence_type     3481 non-null   int64  \n",
      " 7   avg_glucose_level  3481 non-null   float64\n",
      " 8   bmi                3481 non-null   float64\n",
      " 9   smoking_status     3481 non-null   int64  \n",
      " 10  stroke             3481 non-null   int64  \n",
      "dtypes: float64(3), int64(8)\n",
      "memory usage: 326.3 KB\n"
     ]
    }
   ],
   "source": [
    "data.info()"
   ]
  },
  {
   "cell_type": "code",
   "execution_count": 26,
   "id": "c8daca7f",
   "metadata": {
    "id": "f_KSk6595f_b",
    "outputId": "f771a7f9-2988-4ae5-ec4b-c82840ac1733",
    "papermill": {
     "duration": 0.826252,
     "end_time": "2023-10-25T09:25:00.869824",
     "exception": false,
     "start_time": "2023-10-25T09:25:00.043572",
     "status": "completed"
    },
    "tags": []
   },
   "outputs": [
    {
     "data": {
      "image/png": "[encoded data removed]",
      "text/plain": [
       "<Figure size 1000x1000 with 2 Axes>"
      ]
     },
     "metadata": {},
     "output_type": "display_data"
    }
   ],
   "source": [
    "corr = data.corr()\n",
    "plt.figure(figsize=(10, 10))\n",
    "sns.heatmap(corr, annot=True)\n",
    "plt.show()"
   ]
  },
  {
   "cell_type": "code",
   "execution_count": 27,
   "id": "c6327461",
   "metadata": {
    "id": "G8BzW89V8c9j",
    "outputId": "00ff0723-b973-43de-e804-c85a109b4d3f",
    "papermill": {
     "duration": 0.35969,
     "end_time": "2023-10-25T09:25:01.262032",
     "exception": false,
     "start_time": "2023-10-25T09:25:00.902342",
     "status": "completed"
    },
    "tags": []
   },
   "outputs": [
    {
     "data": {
      "text/plain": [
       "Text(0.5, 1.0, 'Female = 1 & Male = 0')"
      ]
     },
     "execution_count": 27,
     "metadata": {},
     "output_type": "execute_result"
    },
    {
     "data": {
      "image/png": "[encoded data removed]",
      "text/plain": [
       "<Figure size 640x480 with 1 Axes>"
      ]
     },
     "metadata": {},
     "output_type": "display_data"
    }
   ],
   "source": [
    "ax = sns.countplot(x=\"gender\", data=data, palette=\"Blues_d\")\n",
    "plt.title(\"Female = 1 & Male = 0\")"
   ]
  },
  {
   "cell_type": "code",
   "execution_count": 28,
   "id": "fbc904d4",
   "metadata": {
    "id": "Z291cmWQ_iCV",
    "outputId": "23e60c12-6ef1-4b7b-818c-ea81e35b5e81",
    "papermill": {
     "duration": 0.343037,
     "end_time": "2023-10-25T09:25:01.636376",
     "exception": false,
     "start_time": "2023-10-25T09:25:01.293339",
     "status": "completed"
    },
    "tags": []
   },
   "outputs": [
    {
     "data": {
      "text/plain": [
       "Text(0.5, 1.0, \"0 = Doesn't have hypertension & 1 = Have hypertension\")"
      ]
     },
     "execution_count": 28,
     "metadata": {},
     "output_type": "execute_result"
    },
    {
     "data": {
      "image/png": "[encoded data removed]",
      "text/plain": [
       "<Figure size 640x480 with 1 Axes>"
      ]
     },
     "metadata": {},
     "output_type": "display_data"
    }
   ],
   "source": [
    "ax = sns.countplot(x=\"hypertension\", data=data, palette=\"Blues_d\")\n",
    "plt.title(\"0 = Doesn't have hypertension & 1 = Have hypertension\")"
   ]
  },
  {
   "cell_type": "code",
   "execution_count": 29,
   "id": "c2d20c6e",
   "metadata": {
    "id": "H_HNk8i3_m6a",
    "outputId": "9351df1b-75af-4bec-9a67-a2debf46558f",
    "papermill": {
     "duration": 0.272351,
     "end_time": "2023-10-25T09:25:01.941245",
     "exception": false,
     "start_time": "2023-10-25T09:25:01.668894",
     "status": "completed"
    },
    "tags": []
   },
   "outputs": [
    {
     "data": {
      "text/plain": [
       "Text(0.5, 1.0, \"0 = Doesn't have heart disease & 1 = Have heart disease\")"
      ]
     },
     "execution_count": 29,
     "metadata": {},
     "output_type": "execute_result"
    },
    {
     "data": {
      "image/png": "[encoded data removed]",
      "text/plain": [
       "<Figure size 640x480 with 1 Axes>"
      ]
     },
     "metadata": {},
     "output_type": "display_data"
    }
   ],
   "source": [
    "ax = sns.countplot(x=\"heart_disease\", data=data, palette=\"Blues_d\")\n",
    "plt.title(\"0 = Doesn't have heart disease & 1 = Have heart disease\")"
   ]
  },
  {
   "cell_type": "code",
   "execution_count": 30,
   "id": "43718ec9",
   "metadata": {
    "id": "apm8iKkZ_nCi",
    "outputId": "6ef46fe7-d723-4bf2-87fe-fc3b88513c99",
    "papermill": {
     "duration": 0.321556,
     "end_time": "2023-10-25T09:25:02.297354",
     "exception": false,
     "start_time": "2023-10-25T09:25:01.975798",
     "status": "completed"
    },
    "tags": []
   },
   "outputs": [
    {
     "data": {
      "text/plain": [
       "Text(0.5, 1.0, \"0 = Doesn't married & 1 = Ever married\")"
      ]
     },
     "execution_count": 30,
     "metadata": {},
     "output_type": "execute_result"
    },
    {
     "data": {
      "image/png": "[encoded data removed]",
      "text/plain": [
       "<Figure size 640x480 with 1 Axes>"
      ]
     },
     "metadata": {},
     "output_type": "display_data"
    }
   ],
   "source": [
    "ax = sns.countplot(x=\"ever_married\", data=data, palette=\"Blues_d\")\n",
    "plt.title(\"0 = Doesn't married & 1 = Ever married\")"
   ]
  },
  {
   "cell_type": "code",
   "execution_count": 31,
   "id": "980e76ef",
   "metadata": {
    "id": "-bpSwUQG_5Sf",
    "outputId": "46125a44-8235-4d3e-9dfc-dc1b55cc5b69",
    "papermill": {
     "duration": 0.334999,
     "end_time": "2023-10-25T09:25:02.666430",
     "exception": false,
     "start_time": "2023-10-25T09:25:02.331431",
     "status": "completed"
    },
    "tags": []
   },
   "outputs": [
    {
     "data": {
      "text/plain": [
       "Text(0.5, 1.0, '0 = Private & 1 = Self-employed & 2 = children & 3 = Govt_job')"
      ]
     },
     "execution_count": 31,
     "metadata": {},
     "output_type": "execute_result"
    },
    {
     "data": {
      "image/png": "[encoded data removed]",
      "text/plain": [
       "<Figure size 640x480 with 1 Axes>"
      ]
     },
     "metadata": {},
     "output_type": "display_data"
    }
   ],
   "source": [
    "ax = sns.countplot(x=\"work_type\", data=data, palette=\"Blues_d\")\n",
    "plt.title(\"0 = Private & 1 = Self-employed & 2 = children & 3 = Govt_job\")"
   ]
  },
  {
   "cell_type": "code",
   "execution_count": 32,
   "id": "e149eebd",
   "metadata": {
    "id": "xZlR8dNi_5fZ",
    "outputId": "49c2cd83-3bd5-4869-d595-8fde6a47a3f7",
    "papermill": {
     "duration": 0.336648,
     "end_time": "2023-10-25T09:25:03.037186",
     "exception": false,
     "start_time": "2023-10-25T09:25:02.700538",
     "status": "completed"
    },
    "tags": []
   },
   "outputs": [
    {
     "data": {
      "text/plain": [
       "Text(0.5, 1.0, '0 = Rural & 1 = Urban')"
      ]
     },
     "execution_count": 32,
     "metadata": {},
     "output_type": "execute_result"
    },
    {
     "data": {
      "image/png": "[encoded data removed]",
      "text/plain": [
       "<Figure size 640x480 with 1 Axes>"
      ]
     },
     "metadata": {},
     "output_type": "display_data"
    }
   ],
   "source": [
    "ax = sns.countplot(x=\"Residence_type\", data=data, palette=\"Blues_d\")\n",
    "plt.title(\"0 = Rural & 1 = Urban\")"
   ]
  },
  {
   "cell_type": "code",
   "execution_count": 33,
   "id": "5deb07c8",
   "metadata": {
    "id": "Rm8Mn5tFDUcl",
    "outputId": "56bed808-e750-4bf9-e9cd-1070dece8d60",
    "papermill": {
     "duration": 0.367451,
     "end_time": "2023-10-25T09:25:03.441123",
     "exception": false,
     "start_time": "2023-10-25T09:25:03.073672",
     "status": "completed"
    },
    "tags": []
   },
   "outputs": [
    {
     "data": {
      "text/plain": [
       "Text(0.5, 1.0, '0 = never smoked & 1 = formerly smoked & 2 = smokes')"
      ]
     },
     "execution_count": 33,
     "metadata": {},
     "output_type": "execute_result"
    },
    {
     "data": {
      "image/png": "[encoded data removed]",
      "text/plain": [
       "<Figure size 640x480 with 1 Axes>"
      ]
     },
     "metadata": {},
     "output_type": "display_data"
    }
   ],
   "source": [
    "ax = sns.countplot(x=\"smoking_status\", data=data, palette=\"Blues_d\")\n",
    "plt.title(\"0 = never smoked & 1 = formerly smoked & 2 = smokes\")"
   ]
  },
  {
   "cell_type": "code",
   "execution_count": 34,
   "id": "1be32a83",
   "metadata": {
    "id": "E26QYruL5GrT",
    "outputId": "7089a017-b60d-4084-999e-8ff3952fa803",
    "papermill": {
     "duration": 0.056171,
     "end_time": "2023-10-25T09:25:03.533070",
     "exception": false,
     "start_time": "2023-10-25T09:25:03.476899",
     "status": "completed"
    },
    "tags": []
   },
   "outputs": [
    {
     "data": {
      "text/html": [
       "<div>\n",
       "<style scoped>\n",
       "    .dataframe tbody tr th:only-of-type {\n",
       "        vertical-align: middle;\n",
       "    }\n",
       "\n",
       "    .dataframe tbody tr th {\n",
       "        vertical-align: top;\n",
       "    }\n",
       "\n",
       "    .dataframe thead th {\n",
       "        text-align: right;\n",
       "    }\n",
       "</style>\n",
       "<table border=\"1\" class=\"dataframe\">\n",
       "  <thead>\n",
       "    <tr style=\"text-align: right;\">\n",
       "      <th></th>\n",
       "      <th></th>\n",
       "      <th>hypertension</th>\n",
       "    </tr>\n",
       "    <tr>\n",
       "      <th>hypertension</th>\n",
       "      <th>heart_disease</th>\n",
       "      <th></th>\n",
       "    </tr>\n",
       "  </thead>\n",
       "  <tbody>\n",
       "    <tr>\n",
       "      <th rowspan=\"2\" valign=\"top\">0</th>\n",
       "      <th>0</th>\n",
       "      <td>2884</td>\n",
       "    </tr>\n",
       "    <tr>\n",
       "      <th>1</th>\n",
       "      <td>168</td>\n",
       "    </tr>\n",
       "    <tr>\n",
       "      <th rowspan=\"2\" valign=\"top\">1</th>\n",
       "      <th>0</th>\n",
       "      <td>370</td>\n",
       "    </tr>\n",
       "    <tr>\n",
       "      <th>1</th>\n",
       "      <td>59</td>\n",
       "    </tr>\n",
       "  </tbody>\n",
       "</table>\n",
       "</div>"
      ],
      "text/plain": [
       "                            hypertension\n",
       "hypertension heart_disease              \n",
       "0            0                      2884\n",
       "             1                       168\n",
       "1            0                       370\n",
       "             1                        59"
      ]
     },
     "execution_count": 34,
     "metadata": {},
     "output_type": "execute_result"
    }
   ],
   "source": [
    "data.groupby(['hypertension', 'heart_disease']).agg({'hypertension': 'count'})"
   ]
  },
  {
   "cell_type": "code",
   "execution_count": 35,
   "id": "815806c5",
   "metadata": {
    "id": "9NqY3WVv5SXn",
    "outputId": "c9a4619f-d374-49ce-d54f-c8141cefdf3b",
    "papermill": {
     "duration": 0.394409,
     "end_time": "2023-10-25T09:25:03.964597",
     "exception": false,
     "start_time": "2023-10-25T09:25:03.570188",
     "status": "completed"
    },
    "tags": []
   },
   "outputs": [
    {
     "data": {
      "text/plain": [
       "<matplotlib.legend.Legend at 0x20261da6c50>"
      ]
     },
     "execution_count": 35,
     "metadata": {},
     "output_type": "execute_result"
    },
    {
     "data": {
      "image/png": "[encoded data removed]",
      "text/plain": [
       "<Figure size 800x500 with 1 Axes>"
      ]
     },
     "metadata": {},
     "output_type": "display_data"
    }
   ],
   "source": [
    "have_heart_disease = (168, 59)\n",
    "does_not_have_heart_disease = (2884, 370)\n",
    "X = np.arange(2) \n",
    "plt.figure(figsize=(8, 5))\n",
    "width = 0.25 \n",
    "plt.bar(X, have_heart_disease, width, label='have_heart_disease', color=\"#1d3557\")\n",
    "plt.bar(X + width, does_not_have_heart_disease, width, label='does_not_have_heart_disease', color=\"#98c1d9\")\n",
    "plt.xticks(X + width / 2, (\"doesn't have hypertension\", \"have hypertension\"))\n",
    "plt.title(\"The relationship between hypertension and heart diease \")\n",
    "plt.legend(loc='best')"
   ]
  },
  {
   "cell_type": "markdown",
   "id": "b8ad1149",
   "metadata": {
    "id": "kntopiGNj_HC",
    "papermill": {
     "duration": 0.037154,
     "end_time": "2023-10-25T09:25:04.037565",
     "exception": false,
     "start_time": "2023-10-25T09:25:04.000411",
     "status": "completed"
    },
    "tags": []
   },
   "source": [
    "# **Who have Brain Stroke**"
   ]
  },
  {
   "cell_type": "code",
   "execution_count": 36,
   "id": "1e929db8",
   "metadata": {
    "id": "HrPnrT40IJBw",
    "outputId": "7e55f8f7-ea29-46df-bb18-4f07609a107f",
    "papermill": {
     "duration": 0.067168,
     "end_time": "2023-10-25T09:25:04.141337",
     "exception": false,
     "start_time": "2023-10-25T09:25:04.074169",
     "status": "completed"
    },
    "tags": []
   },
   "outputs": [
    {
     "data": {
      "text/html": [
       "<div>\n",
       "<style scoped>\n",
       "    .dataframe tbody tr th:only-of-type {\n",
       "        vertical-align: middle;\n",
       "    }\n",
       "\n",
       "    .dataframe tbody tr th {\n",
       "        vertical-align: top;\n",
       "    }\n",
       "\n",
       "    .dataframe thead th {\n",
       "        text-align: right;\n",
       "    }\n",
       "</style>\n",
       "<table border=\"1\" class=\"dataframe\">\n",
       "  <thead>\n",
       "    <tr style=\"text-align: right;\">\n",
       "      <th></th>\n",
       "      <th>gender</th>\n",
       "      <th>age</th>\n",
       "      <th>hypertension</th>\n",
       "      <th>heart_disease</th>\n",
       "      <th>ever_married</th>\n",
       "      <th>work_type</th>\n",
       "      <th>Residence_type</th>\n",
       "      <th>avg_glucose_level</th>\n",
       "      <th>bmi</th>\n",
       "      <th>smoking_status</th>\n",
       "      <th>stroke</th>\n",
       "    </tr>\n",
       "  </thead>\n",
       "  <tbody>\n",
       "    <tr>\n",
       "      <th>0</th>\n",
       "      <td>0</td>\n",
       "      <td>67.0</td>\n",
       "      <td>0</td>\n",
       "      <td>1</td>\n",
       "      <td>1</td>\n",
       "      <td>0</td>\n",
       "      <td>1</td>\n",
       "      <td>228.69</td>\n",
       "      <td>36.6</td>\n",
       "      <td>1</td>\n",
       "      <td>1</td>\n",
       "    </tr>\n",
       "    <tr>\n",
       "      <th>1</th>\n",
       "      <td>0</td>\n",
       "      <td>80.0</td>\n",
       "      <td>0</td>\n",
       "      <td>1</td>\n",
       "      <td>1</td>\n",
       "      <td>0</td>\n",
       "      <td>0</td>\n",
       "      <td>105.92</td>\n",
       "      <td>32.5</td>\n",
       "      <td>0</td>\n",
       "      <td>1</td>\n",
       "    </tr>\n",
       "    <tr>\n",
       "      <th>2</th>\n",
       "      <td>1</td>\n",
       "      <td>49.0</td>\n",
       "      <td>0</td>\n",
       "      <td>0</td>\n",
       "      <td>1</td>\n",
       "      <td>0</td>\n",
       "      <td>1</td>\n",
       "      <td>171.23</td>\n",
       "      <td>34.4</td>\n",
       "      <td>2</td>\n",
       "      <td>1</td>\n",
       "    </tr>\n",
       "    <tr>\n",
       "      <th>3</th>\n",
       "      <td>1</td>\n",
       "      <td>79.0</td>\n",
       "      <td>1</td>\n",
       "      <td>0</td>\n",
       "      <td>1</td>\n",
       "      <td>1</td>\n",
       "      <td>0</td>\n",
       "      <td>174.12</td>\n",
       "      <td>24.0</td>\n",
       "      <td>0</td>\n",
       "      <td>1</td>\n",
       "    </tr>\n",
       "    <tr>\n",
       "      <th>4</th>\n",
       "      <td>0</td>\n",
       "      <td>81.0</td>\n",
       "      <td>0</td>\n",
       "      <td>0</td>\n",
       "      <td>1</td>\n",
       "      <td>0</td>\n",
       "      <td>1</td>\n",
       "      <td>186.21</td>\n",
       "      <td>29.0</td>\n",
       "      <td>1</td>\n",
       "      <td>1</td>\n",
       "    </tr>\n",
       "    <tr>\n",
       "      <th>...</th>\n",
       "      <td>...</td>\n",
       "      <td>...</td>\n",
       "      <td>...</td>\n",
       "      <td>...</td>\n",
       "      <td>...</td>\n",
       "      <td>...</td>\n",
       "      <td>...</td>\n",
       "      <td>...</td>\n",
       "      <td>...</td>\n",
       "      <td>...</td>\n",
       "      <td>...</td>\n",
       "    </tr>\n",
       "    <tr>\n",
       "      <th>4810</th>\n",
       "      <td>1</td>\n",
       "      <td>79.0</td>\n",
       "      <td>1</td>\n",
       "      <td>1</td>\n",
       "      <td>0</td>\n",
       "      <td>1</td>\n",
       "      <td>0</td>\n",
       "      <td>60.94</td>\n",
       "      <td>28.8</td>\n",
       "      <td>0</td>\n",
       "      <td>1</td>\n",
       "    </tr>\n",
       "    <tr>\n",
       "      <th>4811</th>\n",
       "      <td>1</td>\n",
       "      <td>78.0</td>\n",
       "      <td>0</td>\n",
       "      <td>0</td>\n",
       "      <td>1</td>\n",
       "      <td>1</td>\n",
       "      <td>0</td>\n",
       "      <td>60.67</td>\n",
       "      <td>27.1</td>\n",
       "      <td>1</td>\n",
       "      <td>1</td>\n",
       "    </tr>\n",
       "    <tr>\n",
       "      <th>4815</th>\n",
       "      <td>0</td>\n",
       "      <td>79.0</td>\n",
       "      <td>0</td>\n",
       "      <td>0</td>\n",
       "      <td>1</td>\n",
       "      <td>0</td>\n",
       "      <td>0</td>\n",
       "      <td>114.77</td>\n",
       "      <td>27.2</td>\n",
       "      <td>1</td>\n",
       "      <td>1</td>\n",
       "    </tr>\n",
       "    <tr>\n",
       "      <th>4817</th>\n",
       "      <td>1</td>\n",
       "      <td>76.0</td>\n",
       "      <td>1</td>\n",
       "      <td>1</td>\n",
       "      <td>1</td>\n",
       "      <td>1</td>\n",
       "      <td>1</td>\n",
       "      <td>199.86</td>\n",
       "      <td>31.7</td>\n",
       "      <td>2</td>\n",
       "      <td>1</td>\n",
       "    </tr>\n",
       "    <tr>\n",
       "      <th>4818</th>\n",
       "      <td>0</td>\n",
       "      <td>74.0</td>\n",
       "      <td>0</td>\n",
       "      <td>0</td>\n",
       "      <td>1</td>\n",
       "      <td>1</td>\n",
       "      <td>0</td>\n",
       "      <td>60.98</td>\n",
       "      <td>28.1</td>\n",
       "      <td>0</td>\n",
       "      <td>1</td>\n",
       "    </tr>\n",
       "  </tbody>\n",
       "</table>\n",
       "<p>201 rows × 11 columns</p>\n",
       "</div>"
      ],
      "text/plain": [
       "      gender   age  hypertension  heart_disease  ever_married  work_type  \\\n",
       "0          0  67.0             0              1             1          0   \n",
       "1          0  80.0             0              1             1          0   \n",
       "2          1  49.0             0              0             1          0   \n",
       "3          1  79.0             1              0             1          1   \n",
       "4          0  81.0             0              0             1          0   \n",
       "...      ...   ...           ...            ...           ...        ...   \n",
       "4810       1  79.0             1              1             0          1   \n",
       "4811       1  78.0             0              0             1          1   \n",
       "4815       0  79.0             0              0             1          0   \n",
       "4817       1  76.0             1              1             1          1   \n",
       "4818       0  74.0             0              0             1          1   \n",
       "\n",
       "      Residence_type  avg_glucose_level   bmi  smoking_status  stroke  \n",
       "0                  1             228.69  36.6               1       1  \n",
       "1                  0             105.92  32.5               0       1  \n",
       "2                  1             171.23  34.4               2       1  \n",
       "3                  0             174.12  24.0               0       1  \n",
       "4                  1             186.21  29.0               1       1  \n",
       "...              ...                ...   ...             ...     ...  \n",
       "4810               0              60.94  28.8               0       1  \n",
       "4811               0              60.67  27.1               1       1  \n",
       "4815               0             114.77  27.2               1       1  \n",
       "4817               1             199.86  31.7               2       1  \n",
       "4818               0              60.98  28.1               0       1  \n",
       "\n",
       "[201 rows x 11 columns]"
      ]
     },
     "execution_count": 36,
     "metadata": {},
     "output_type": "execute_result"
    }
   ],
   "source": [
    "grouped = data.groupby(data.stroke)\n",
    "data_new1 = grouped.get_group(1)\n",
    "data_new1"
   ]
  },
  {
   "cell_type": "code",
   "execution_count": 37,
   "id": "8093a566",
   "metadata": {
    "id": "p8B5hTBrZ6r_",
    "outputId": "1cd9d851-71be-40b3-c006-b86df9c137ad",
    "papermill": {
     "duration": 0.054839,
     "end_time": "2023-10-25T09:25:04.233774",
     "exception": false,
     "start_time": "2023-10-25T09:25:04.178935",
     "status": "completed"
    },
    "tags": []
   },
   "outputs": [
    {
     "data": {
      "text/plain": [
       "gender\n",
       "1    115\n",
       "0     86\n",
       "Name: count, dtype: int64"
      ]
     },
     "execution_count": 37,
     "metadata": {},
     "output_type": "execute_result"
    }
   ],
   "source": [
    "data_new1['gender'].value_counts()"
   ]
  },
  {
   "cell_type": "code",
   "execution_count": 38,
   "id": "d7f66236",
   "metadata": {
    "id": "TQlxl_BPZ0O4",
    "outputId": "62b11d7b-0bed-4d3f-ec63-58dff72c496d",
    "papermill": {
     "duration": 0.299849,
     "end_time": "2023-10-25T09:25:04.571301",
     "exception": false,
     "start_time": "2023-10-25T09:25:04.271452",
     "status": "completed"
    },
    "tags": []
   },
   "outputs": [
    {
     "data": {
      "text/plain": [
       "<matplotlib.legend.Legend at 0x202620abfd0>"
      ]
     },
     "execution_count": 38,
     "metadata": {},
     "output_type": "execute_result"
    },
    {
     "data": {
      "image/png": "[encoded data removed]",
      "text/plain": [
       "<Figure size 640x480 with 1 Axes>"
      ]
     },
     "metadata": {},
     "output_type": "display_data"
    }
   ],
   "source": [
    "gender=[115, 86]\n",
    "plt.pie(gender,  radius=1.7, colors=[\"#98c1d9\", \"#1d3557\"], \n",
    "        rotatelabels=False, autopct= \"%1.0f%%\")\n",
    "plt.title('Females who have a brain stroke VS Males who have brain stroke ')\n",
    "plt.legend(labels=[\"Female\", \"Male\"])"
   ]
  },
  {
   "cell_type": "code",
   "execution_count": 39,
   "id": "4d6119fe",
   "metadata": {
    "id": "kOr5GFR2R8Mz",
    "outputId": "48efead3-8543-4c9f-aa9f-473424836a81",
    "papermill": {
     "duration": 0.412945,
     "end_time": "2023-10-25T09:25:05.021684",
     "exception": false,
     "start_time": "2023-10-25T09:25:04.608739",
     "status": "completed"
    },
    "tags": []
   },
   "outputs": [
    {
     "data": {
      "text/plain": [
       "Text(0.5, 1.0, '0 = never smoked & 1 = formerly smoked & 2 = smokes')"
      ]
     },
     "execution_count": 39,
     "metadata": {},
     "output_type": "execute_result"
    },
    {
     "data": {
      "image/png": "[encoded data removed]",
      "text/plain": [
       "<Figure size 640x480 with 1 Axes>"
      ]
     },
     "metadata": {},
     "output_type": "display_data"
    }
   ],
   "source": [
    "ax = sns.countplot(x=\"gender\", hue = \"smoking_status\" ,data=data_new1, palette=\"Blues_d\")\n",
    "plt.title(\"0 = never smoked & 1 = formerly smoked & 2 = smokes\")"
   ]
  },
  {
   "cell_type": "code",
   "execution_count": 40,
   "id": "8d04ab6d",
   "metadata": {
    "id": "f-gIoUrWakWJ",
    "outputId": "a7810c6d-ef4d-46c2-d20e-bb7d4118368b",
    "papermill": {
     "duration": 0.059495,
     "end_time": "2023-10-25T09:25:05.121406",
     "exception": false,
     "start_time": "2023-10-25T09:25:05.061911",
     "status": "completed"
    },
    "tags": []
   },
   "outputs": [
    {
     "data": {
      "text/html": [
       "<div>\n",
       "<style scoped>\n",
       "    .dataframe tbody tr th:only-of-type {\n",
       "        vertical-align: middle;\n",
       "    }\n",
       "\n",
       "    .dataframe tbody tr th {\n",
       "        vertical-align: top;\n",
       "    }\n",
       "\n",
       "    .dataframe thead th {\n",
       "        text-align: right;\n",
       "    }\n",
       "</style>\n",
       "<table border=\"1\" class=\"dataframe\">\n",
       "  <thead>\n",
       "    <tr style=\"text-align: right;\">\n",
       "      <th></th>\n",
       "      <th></th>\n",
       "      <th>hypertension</th>\n",
       "    </tr>\n",
       "    <tr>\n",
       "      <th>gender</th>\n",
       "      <th>hypertension</th>\n",
       "      <th></th>\n",
       "    </tr>\n",
       "  </thead>\n",
       "  <tbody>\n",
       "    <tr>\n",
       "      <th rowspan=\"2\" valign=\"top\">0</th>\n",
       "      <th>0</th>\n",
       "      <td>61</td>\n",
       "    </tr>\n",
       "    <tr>\n",
       "      <th>1</th>\n",
       "      <td>25</td>\n",
       "    </tr>\n",
       "    <tr>\n",
       "      <th rowspan=\"2\" valign=\"top\">1</th>\n",
       "      <th>0</th>\n",
       "      <td>78</td>\n",
       "    </tr>\n",
       "    <tr>\n",
       "      <th>1</th>\n",
       "      <td>37</td>\n",
       "    </tr>\n",
       "  </tbody>\n",
       "</table>\n",
       "</div>"
      ],
      "text/plain": [
       "                     hypertension\n",
       "gender hypertension              \n",
       "0      0                       61\n",
       "       1                       25\n",
       "1      0                       78\n",
       "       1                       37"
      ]
     },
     "execution_count": 40,
     "metadata": {},
     "output_type": "execute_result"
    }
   ],
   "source": [
    "data_new1.groupby(['gender', 'hypertension']).agg({'hypertension': 'count'})"
   ]
  },
  {
   "cell_type": "code",
   "execution_count": 41,
   "id": "57477c6f",
   "metadata": {
    "id": "jy2UkinHcewO",
    "outputId": "63ef5c86-06ff-4a9a-83ab-a424545ef3e4",
    "papermill": {
     "duration": 0.414147,
     "end_time": "2023-10-25T09:25:05.573959",
     "exception": false,
     "start_time": "2023-10-25T09:25:05.159812",
     "status": "completed"
    },
    "tags": []
   },
   "outputs": [
    {
     "data": {
      "text/plain": [
       "<matplotlib.legend.Legend at 0x202635114d0>"
      ]
     },
     "execution_count": 41,
     "metadata": {},
     "output_type": "execute_result"
    },
    {
     "data": {
      "image/png": "[encoded data removed]",
      "text/plain": [
       "<Figure size 800x500 with 1 Axes>"
      ]
     },
     "metadata": {},
     "output_type": "display_data"
    }
   ],
   "source": [
    "have_hypertension = (25, 37)\n",
    "does_not_have_hypertension = (61,78)\n",
    "X = np.arange(2) \n",
    "plt.figure(figsize=(8, 5))\n",
    "width = 0.25 \n",
    "plt.bar(X, have_hypertension, width, label='have_hypertension', color=\"#1d3557\")\n",
    "plt.bar(X + width, does_not_have_hypertension, width, label='does_not_have_hypertension', color=\"#98c1d9\")\n",
    "plt.xticks(X + width / 2, (\"Male\", \"Female\"))\n",
    "plt.title(\"who have hypertension VS who doesn't have hypertension \")\n",
    "plt.legend(loc='best')"
   ]
  },
  {
   "cell_type": "code",
   "execution_count": 42,
   "id": "8df9f6de",
   "metadata": {
    "id": "dSUtHcGWeeaZ",
    "outputId": "437d5356-bff2-4381-b342-3163397a09e3",
    "papermill": {
     "duration": 0.056938,
     "end_time": "2023-10-25T09:25:05.669846",
     "exception": false,
     "start_time": "2023-10-25T09:25:05.612908",
     "status": "completed"
    },
    "tags": []
   },
   "outputs": [
    {
     "data": {
      "text/html": [
       "<div>\n",
       "<style scoped>\n",
       "    .dataframe tbody tr th:only-of-type {\n",
       "        vertical-align: middle;\n",
       "    }\n",
       "\n",
       "    .dataframe tbody tr th {\n",
       "        vertical-align: top;\n",
       "    }\n",
       "\n",
       "    .dataframe thead th {\n",
       "        text-align: right;\n",
       "    }\n",
       "</style>\n",
       "<table border=\"1\" class=\"dataframe\">\n",
       "  <thead>\n",
       "    <tr style=\"text-align: right;\">\n",
       "      <th></th>\n",
       "      <th></th>\n",
       "      <th>heart_disease</th>\n",
       "    </tr>\n",
       "    <tr>\n",
       "      <th>gender</th>\n",
       "      <th>heart_disease</th>\n",
       "      <th></th>\n",
       "    </tr>\n",
       "  </thead>\n",
       "  <tbody>\n",
       "    <tr>\n",
       "      <th rowspan=\"2\" valign=\"top\">0</th>\n",
       "      <th>0</th>\n",
       "      <td>63</td>\n",
       "    </tr>\n",
       "    <tr>\n",
       "      <th>1</th>\n",
       "      <td>23</td>\n",
       "    </tr>\n",
       "    <tr>\n",
       "      <th rowspan=\"2\" valign=\"top\">1</th>\n",
       "      <th>0</th>\n",
       "      <td>99</td>\n",
       "    </tr>\n",
       "    <tr>\n",
       "      <th>1</th>\n",
       "      <td>16</td>\n",
       "    </tr>\n",
       "  </tbody>\n",
       "</table>\n",
       "</div>"
      ],
      "text/plain": [
       "                      heart_disease\n",
       "gender heart_disease               \n",
       "0      0                         63\n",
       "       1                         23\n",
       "1      0                         99\n",
       "       1                         16"
      ]
     },
     "execution_count": 42,
     "metadata": {},
     "output_type": "execute_result"
    }
   ],
   "source": [
    "data_new1.groupby(['gender', 'heart_disease']).agg({'heart_disease': 'count'})"
   ]
  },
  {
   "cell_type": "code",
   "execution_count": 43,
   "id": "9c9fc8f9",
   "metadata": {
    "id": "h9T_jSzQZeb2",
    "outputId": "0dbfa816-ca74-488a-df44-acec3f03a833",
    "papermill": {
     "duration": 0.361143,
     "end_time": "2023-10-25T09:25:06.069969",
     "exception": false,
     "start_time": "2023-10-25T09:25:05.708826",
     "status": "completed"
    },
    "tags": []
   },
   "outputs": [
    {
     "data": {
      "text/plain": [
       "<matplotlib.legend.Legend at 0x20263345dd0>"
      ]
     },
     "execution_count": 43,
     "metadata": {},
     "output_type": "execute_result"
    },
    {
     "data": {
      "image/png": "[encoded data removed]",
      "text/plain": [
       "<Figure size 800x500 with 1 Axes>"
      ]
     },
     "metadata": {},
     "output_type": "display_data"
    }
   ],
   "source": [
    "have_heart_disease = (23, 16)\n",
    "does_not_have_heart_disease = (63, 99)\n",
    "X = np.arange(2) \n",
    "plt.figure(figsize=(8, 5))\n",
    "width = 0.25 \n",
    "plt.bar(X, have_heart_disease, width, label='have_heart_disease', color=\"#1d3557\")\n",
    "plt.bar(X + width, does_not_have_heart_disease, width, label='does_not_have_heart_disease', color=\"#98c1d9\")\n",
    "plt.xticks(X + width / 2, (\"Male\", \"Female\"))\n",
    "plt.title(\"who have heart diseases VS who doesn't have heart diseases \")\n",
    "plt.legend(loc='best')"
   ]
  },
  {
   "cell_type": "code",
   "execution_count": 44,
   "id": "2cbc27b1",
   "metadata": {
    "id": "AFeVxjwWe2Ux",
    "outputId": "99cc08f6-7fdf-4d4e-f0e7-f46143684409",
    "papermill": {
     "duration": 0.065735,
     "end_time": "2023-10-25T09:25:06.177677",
     "exception": false,
     "start_time": "2023-10-25T09:25:06.111942",
     "status": "completed"
    },
    "tags": []
   },
   "outputs": [
    {
     "data": {
      "text/html": [
       "<div>\n",
       "<style scoped>\n",
       "    .dataframe tbody tr th:only-of-type {\n",
       "        vertical-align: middle;\n",
       "    }\n",
       "\n",
       "    .dataframe tbody tr th {\n",
       "        vertical-align: top;\n",
       "    }\n",
       "\n",
       "    .dataframe thead th {\n",
       "        text-align: right;\n",
       "    }\n",
       "</style>\n",
       "<table border=\"1\" class=\"dataframe\">\n",
       "  <thead>\n",
       "    <tr style=\"text-align: right;\">\n",
       "      <th></th>\n",
       "      <th></th>\n",
       "      <th>ever_married</th>\n",
       "    </tr>\n",
       "    <tr>\n",
       "      <th>gender</th>\n",
       "      <th>ever_married</th>\n",
       "      <th></th>\n",
       "    </tr>\n",
       "  </thead>\n",
       "  <tbody>\n",
       "    <tr>\n",
       "      <th rowspan=\"2\" valign=\"top\">0</th>\n",
       "      <th>0</th>\n",
       "      <td>6</td>\n",
       "    </tr>\n",
       "    <tr>\n",
       "      <th>1</th>\n",
       "      <td>80</td>\n",
       "    </tr>\n",
       "    <tr>\n",
       "      <th rowspan=\"2\" valign=\"top\">1</th>\n",
       "      <th>0</th>\n",
       "      <td>15</td>\n",
       "    </tr>\n",
       "    <tr>\n",
       "      <th>1</th>\n",
       "      <td>100</td>\n",
       "    </tr>\n",
       "  </tbody>\n",
       "</table>\n",
       "</div>"
      ],
      "text/plain": [
       "                     ever_married\n",
       "gender ever_married              \n",
       "0      0                        6\n",
       "       1                       80\n",
       "1      0                       15\n",
       "       1                      100"
      ]
     },
     "execution_count": 44,
     "metadata": {},
     "output_type": "execute_result"
    }
   ],
   "source": [
    "data_new1.groupby(['gender', 'ever_married']).agg({'ever_married': 'count'})"
   ]
  },
  {
   "cell_type": "code",
   "execution_count": 45,
   "id": "7521f605",
   "metadata": {
    "id": "jZkJz6vffG9T",
    "outputId": "af59891c-01d1-4233-da4e-b8d55875e230",
    "papermill": {
     "duration": 0.314755,
     "end_time": "2023-10-25T09:25:06.533342",
     "exception": false,
     "start_time": "2023-10-25T09:25:06.218587",
     "status": "completed"
    },
    "tags": []
   },
   "outputs": [
    {
     "data": {
      "text/plain": [
       "<matplotlib.legend.Legend at 0x202635ac690>"
      ]
     },
     "execution_count": 45,
     "metadata": {},
     "output_type": "execute_result"
    },
    {
     "data": {
      "image/png": "[encoded data removed]",
      "text/plain": [
       "<Figure size 800x500 with 1 Axes>"
      ]
     },
     "metadata": {},
     "output_type": "display_data"
    }
   ],
   "source": [
    "ever_married = (80, 100)\n",
    "married = (6, 15)\n",
    "X = np.arange(2) \n",
    "plt.figure(figsize=(8, 5))\n",
    "width = 0.25 \n",
    "plt.bar(X, ever_married, width, label='ever_married', color=\"#1d3557\")\n",
    "plt.bar(X + width, married, width, label='married', color=\"#98c1d9\")\n",
    "plt.xticks(X + width / 2, (\"Male\", \"Female\"))\n",
    "plt.legend(loc='best')"
   ]
  },
  {
   "cell_type": "code",
   "execution_count": 46,
   "id": "a805be3c",
   "metadata": {
    "id": "kzu4EzxSfe2w",
    "outputId": "aee51669-864f-4fac-ce1d-38296189173d",
    "papermill": {
     "duration": 0.05823,
     "end_time": "2023-10-25T09:25:06.633158",
     "exception": false,
     "start_time": "2023-10-25T09:25:06.574928",
     "status": "completed"
    },
    "tags": []
   },
   "outputs": [
    {
     "data": {
      "text/html": [
       "<div>\n",
       "<style scoped>\n",
       "    .dataframe tbody tr th:only-of-type {\n",
       "        vertical-align: middle;\n",
       "    }\n",
       "\n",
       "    .dataframe tbody tr th {\n",
       "        vertical-align: top;\n",
       "    }\n",
       "\n",
       "    .dataframe thead th {\n",
       "        text-align: right;\n",
       "    }\n",
       "</style>\n",
       "<table border=\"1\" class=\"dataframe\">\n",
       "  <thead>\n",
       "    <tr style=\"text-align: right;\">\n",
       "      <th></th>\n",
       "      <th></th>\n",
       "      <th>work_type</th>\n",
       "    </tr>\n",
       "    <tr>\n",
       "      <th>gender</th>\n",
       "      <th>work_type</th>\n",
       "      <th></th>\n",
       "    </tr>\n",
       "  </thead>\n",
       "  <tbody>\n",
       "    <tr>\n",
       "      <th rowspan=\"3\" valign=\"top\">0</th>\n",
       "      <th>0</th>\n",
       "      <td>57</td>\n",
       "    </tr>\n",
       "    <tr>\n",
       "      <th>1</th>\n",
       "      <td>21</td>\n",
       "    </tr>\n",
       "    <tr>\n",
       "      <th>3</th>\n",
       "      <td>8</td>\n",
       "    </tr>\n",
       "    <tr>\n",
       "      <th rowspan=\"3\" valign=\"top\">1</th>\n",
       "      <th>0</th>\n",
       "      <td>62</td>\n",
       "    </tr>\n",
       "    <tr>\n",
       "      <th>1</th>\n",
       "      <td>36</td>\n",
       "    </tr>\n",
       "    <tr>\n",
       "      <th>3</th>\n",
       "      <td>17</td>\n",
       "    </tr>\n",
       "  </tbody>\n",
       "</table>\n",
       "</div>"
      ],
      "text/plain": [
       "                  work_type\n",
       "gender work_type           \n",
       "0      0                 57\n",
       "       1                 21\n",
       "       3                  8\n",
       "1      0                 62\n",
       "       1                 36\n",
       "       3                 17"
      ]
     },
     "execution_count": 46,
     "metadata": {},
     "output_type": "execute_result"
    }
   ],
   "source": [
    "data_new1.groupby(['gender', 'work_type']).agg({'work_type': 'count'})"
   ]
  },
  {
   "cell_type": "code",
   "execution_count": 47,
   "id": "661e4d5c",
   "metadata": {
    "id": "DlPRaT7Jf3yN",
    "outputId": "c08975e4-6bf2-496c-9454-05e25b534f46",
    "papermill": {
     "duration": 0.524548,
     "end_time": "2023-10-25T09:25:07.198754",
     "exception": false,
     "start_time": "2023-10-25T09:25:06.674206",
     "status": "completed"
    },
    "tags": []
   },
   "outputs": [
    {
     "data": {
      "text/plain": [
       "<matplotlib.legend.Legend at 0x20263568f10>"
      ]
     },
     "execution_count": 47,
     "metadata": {},
     "output_type": "execute_result"
    },
    {
     "data": {
      "image/png": "[encoded data removed]",
      "text/plain": [
       "<Figure size 800x500 with 1 Axes>"
      ]
     },
     "metadata": {},
     "output_type": "display_data"
    }
   ],
   "source": [
    "Private = (57, 62)         \n",
    "Self_employed = (21,36)    \n",
    "children = (0 , 0)          \n",
    "Govt_job = (8, 17)\n",
    "X = np.arange(2) \n",
    "plt.figure(figsize=(8, 5))\n",
    "width = 0.20 \n",
    "plt.bar(X, Private, width, label='Private', color=\"#0a1128\")\n",
    "plt.bar(X+width, Self_employed, width, label='Self-employed', color=\"#274c77\")\n",
    "plt.bar(X+2*width, children, width, label='children', color=\"#6096ba\")\n",
    "plt.bar(X+3* width, Govt_job, width, label='Govt_job', color=\"#a3cef1\")\n",
    "plt.xticks(X + width / 2, (\"Male\", \"Female\"))\n",
    "plt.title(\"Gender VS Work_type\")\n",
    "plt.legend(loc='best')"
   ]
  },
  {
   "cell_type": "code",
   "execution_count": 48,
   "id": "1cc07007",
   "metadata": {
    "id": "ALGItPtCn4je",
    "outputId": "92326cbd-e01d-4b9e-d5e6-9638d5802c85",
    "papermill": {
     "duration": 0.060399,
     "end_time": "2023-10-25T09:25:07.300166",
     "exception": false,
     "start_time": "2023-10-25T09:25:07.239767",
     "status": "completed"
    },
    "tags": []
   },
   "outputs": [
    {
     "data": {
      "text/html": [
       "<div>\n",
       "<style scoped>\n",
       "    .dataframe tbody tr th:only-of-type {\n",
       "        vertical-align: middle;\n",
       "    }\n",
       "\n",
       "    .dataframe tbody tr th {\n",
       "        vertical-align: top;\n",
       "    }\n",
       "\n",
       "    .dataframe thead th {\n",
       "        text-align: right;\n",
       "    }\n",
       "</style>\n",
       "<table border=\"1\" class=\"dataframe\">\n",
       "  <thead>\n",
       "    <tr style=\"text-align: right;\">\n",
       "      <th></th>\n",
       "      <th></th>\n",
       "      <th>smoking_status</th>\n",
       "    </tr>\n",
       "    <tr>\n",
       "      <th>gender</th>\n",
       "      <th>Residence_type</th>\n",
       "      <th></th>\n",
       "    </tr>\n",
       "  </thead>\n",
       "  <tbody>\n",
       "    <tr>\n",
       "      <th rowspan=\"2\" valign=\"top\">0</th>\n",
       "      <th>0</th>\n",
       "      <td>41</td>\n",
       "    </tr>\n",
       "    <tr>\n",
       "      <th>1</th>\n",
       "      <td>45</td>\n",
       "    </tr>\n",
       "    <tr>\n",
       "      <th rowspan=\"2\" valign=\"top\">1</th>\n",
       "      <th>0</th>\n",
       "      <td>54</td>\n",
       "    </tr>\n",
       "    <tr>\n",
       "      <th>1</th>\n",
       "      <td>61</td>\n",
       "    </tr>\n",
       "  </tbody>\n",
       "</table>\n",
       "</div>"
      ],
      "text/plain": [
       "                       smoking_status\n",
       "gender Residence_type                \n",
       "0      0                           41\n",
       "       1                           45\n",
       "1      0                           54\n",
       "       1                           61"
      ]
     },
     "execution_count": 48,
     "metadata": {},
     "output_type": "execute_result"
    }
   ],
   "source": [
    "data_new1.groupby(['gender', 'Residence_type']).agg({'smoking_status': 'count'})"
   ]
  },
  {
   "cell_type": "code",
   "execution_count": 49,
   "id": "d25eeac8",
   "metadata": {
    "id": "RszhTRFDn-8K",
    "outputId": "b845cf0b-7dc1-4d4a-add7-b09d50c78480",
    "papermill": {
     "duration": 0.329317,
     "end_time": "2023-10-25T09:25:07.671090",
     "exception": false,
     "start_time": "2023-10-25T09:25:07.341773",
     "status": "completed"
    },
    "tags": []
   },
   "outputs": [
    {
     "data": {
      "text/plain": [
       "<matplotlib.legend.Legend at 0x20261d50a90>"
      ]
     },
     "execution_count": 49,
     "metadata": {},
     "output_type": "execute_result"
    },
    {
     "data": {
      "image/png": "[encoded data removed]",
      "text/plain": [
       "<Figure size 800x500 with 1 Axes>"
      ]
     },
     "metadata": {},
     "output_type": "display_data"
    }
   ],
   "source": [
    "Urban = (45, 61)\n",
    "Rural = (41, 54)\n",
    "X = np.arange(2) \n",
    "plt.figure(figsize=(8, 5))\n",
    "width = 0.25 \n",
    "plt.bar(X, Urban, width, label='Urban', color=\"#1d3557\")\n",
    "plt.bar(X + width, Rural, width, label='Rural', color=\"#98c1d9\")\n",
    "plt.xticks(X + width / 2, (\"Male\", \"Female\"))\n",
    "plt.legend(loc='best')"
   ]
  },
  {
   "cell_type": "code",
   "execution_count": 50,
   "id": "8368f19e",
   "metadata": {
    "id": "d8XTQsV0jAMP",
    "outputId": "59b3d59f-3006-4ae1-dd29-037f50cb7cbc",
    "papermill": {
     "duration": 0.062694,
     "end_time": "2023-10-25T09:25:07.777979",
     "exception": false,
     "start_time": "2023-10-25T09:25:07.715285",
     "status": "completed"
    },
    "tags": []
   },
   "outputs": [
    {
     "data": {
      "text/html": [
       "<div>\n",
       "<style scoped>\n",
       "    .dataframe tbody tr th:only-of-type {\n",
       "        vertical-align: middle;\n",
       "    }\n",
       "\n",
       "    .dataframe tbody tr th {\n",
       "        vertical-align: top;\n",
       "    }\n",
       "\n",
       "    .dataframe thead th {\n",
       "        text-align: right;\n",
       "    }\n",
       "</style>\n",
       "<table border=\"1\" class=\"dataframe\">\n",
       "  <thead>\n",
       "    <tr style=\"text-align: right;\">\n",
       "      <th></th>\n",
       "      <th></th>\n",
       "      <th>smoking_status</th>\n",
       "    </tr>\n",
       "    <tr>\n",
       "      <th>gender</th>\n",
       "      <th>smoking_status</th>\n",
       "      <th></th>\n",
       "    </tr>\n",
       "  </thead>\n",
       "  <tbody>\n",
       "    <tr>\n",
       "      <th rowspan=\"3\" valign=\"top\">0</th>\n",
       "      <th>0</th>\n",
       "      <td>27</td>\n",
       "    </tr>\n",
       "    <tr>\n",
       "      <th>1</th>\n",
       "      <td>36</td>\n",
       "    </tr>\n",
       "    <tr>\n",
       "      <th>2</th>\n",
       "      <td>23</td>\n",
       "    </tr>\n",
       "    <tr>\n",
       "      <th rowspan=\"3\" valign=\"top\">1</th>\n",
       "      <th>0</th>\n",
       "      <td>62</td>\n",
       "    </tr>\n",
       "    <tr>\n",
       "      <th>1</th>\n",
       "      <td>34</td>\n",
       "    </tr>\n",
       "    <tr>\n",
       "      <th>2</th>\n",
       "      <td>19</td>\n",
       "    </tr>\n",
       "  </tbody>\n",
       "</table>\n",
       "</div>"
      ],
      "text/plain": [
       "                       smoking_status\n",
       "gender smoking_status                \n",
       "0      0                           27\n",
       "       1                           36\n",
       "       2                           23\n",
       "1      0                           62\n",
       "       1                           34\n",
       "       2                           19"
      ]
     },
     "execution_count": 50,
     "metadata": {},
     "output_type": "execute_result"
    }
   ],
   "source": [
    "data_new1.groupby(['gender', 'smoking_status']).agg({'smoking_status': 'count'})"
   ]
  },
  {
   "cell_type": "code",
   "execution_count": 51,
   "id": "91afa47f",
   "metadata": {
    "id": "2F3wJTwZjHZt",
    "outputId": "70a3c354-20b1-4bdb-b7b8-6db9a87f15ac",
    "papermill": {
     "duration": 0.412867,
     "end_time": "2023-10-25T09:25:08.233131",
     "exception": false,
     "start_time": "2023-10-25T09:25:07.820264",
     "status": "completed"
    },
    "tags": []
   },
   "outputs": [
    {
     "data": {
      "text/plain": [
       "Text(0.5, 1.0, 'Gender VS smoking_status')"
      ]
     },
     "execution_count": 51,
     "metadata": {},
     "output_type": "execute_result"
    },
    {
     "data": {
      "image/png": "[encoded data removed]",
      "text/plain": [
       "<Figure size 800x500 with 1 Axes>"
      ]
     },
     "metadata": {},
     "output_type": "display_data"
    }
   ],
   "source": [
    "never_smoked  = (27, 62)            \n",
    "formerly_smoked = (36 , 34)          \n",
    "smokes = (23 , 19)\n",
    "X = np.arange(2) \n",
    "plt.figure(figsize=(8, 5))\n",
    "width = 0.20 \n",
    "plt.bar(X, never_smoked, width, label='never_smoked', color=\"#0a1128\")\n",
    "plt.bar(X+width, formerly_smoked, width, label='formerly_smoked', color=\"#6096ba\")\n",
    "plt.bar(X+2* width, smokes, width, label='smokes', color=\"#a3cef1\")\n",
    "plt.xticks(X + width / 2, (\"Male\", \"Female\"))\n",
    "plt.legend(loc='best')\n",
    "plt.title(\"Gender VS smoking_status\")"
   ]
  },
  {
   "cell_type": "markdown",
   "id": "b1dc507e",
   "metadata": {
    "id": "8euNHjHzlipR",
    "papermill": {
     "duration": 0.044271,
     "end_time": "2023-10-25T09:25:08.322467",
     "exception": false,
     "start_time": "2023-10-25T09:25:08.278196",
     "status": "completed"
    },
    "tags": []
   },
   "source": [
    "# **Who have Brain Stroke**"
   ]
  },
  {
   "cell_type": "code",
   "execution_count": 52,
   "id": "c5a8a077",
   "metadata": {
    "id": "oFHd4k_nIpPw",
    "outputId": "17c30079-16bb-49cb-a0b9-c96d0e13710b",
    "papermill": {
     "duration": 0.077428,
     "end_time": "2023-10-25T09:25:08.445062",
     "exception": false,
     "start_time": "2023-10-25T09:25:08.367634",
     "status": "completed"
    },
    "tags": []
   },
   "outputs": [
    {
     "data": {
      "text/html": [
       "<div>\n",
       "<style scoped>\n",
       "    .dataframe tbody tr th:only-of-type {\n",
       "        vertical-align: middle;\n",
       "    }\n",
       "\n",
       "    .dataframe tbody tr th {\n",
       "        vertical-align: top;\n",
       "    }\n",
       "\n",
       "    .dataframe thead th {\n",
       "        text-align: right;\n",
       "    }\n",
       "</style>\n",
       "<table border=\"1\" class=\"dataframe\">\n",
       "  <thead>\n",
       "    <tr style=\"text-align: right;\">\n",
       "      <th></th>\n",
       "      <th>gender</th>\n",
       "      <th>age</th>\n",
       "      <th>hypertension</th>\n",
       "      <th>heart_disease</th>\n",
       "      <th>ever_married</th>\n",
       "      <th>work_type</th>\n",
       "      <th>Residence_type</th>\n",
       "      <th>avg_glucose_level</th>\n",
       "      <th>bmi</th>\n",
       "      <th>smoking_status</th>\n",
       "      <th>stroke</th>\n",
       "    </tr>\n",
       "  </thead>\n",
       "  <tbody>\n",
       "    <tr>\n",
       "      <th>209</th>\n",
       "      <td>0</td>\n",
       "      <td>58.0</td>\n",
       "      <td>1</td>\n",
       "      <td>0</td>\n",
       "      <td>1</td>\n",
       "      <td>0</td>\n",
       "      <td>1</td>\n",
       "      <td>87.96</td>\n",
       "      <td>39.2</td>\n",
       "      <td>0</td>\n",
       "      <td>0</td>\n",
       "    </tr>\n",
       "    <tr>\n",
       "      <th>211</th>\n",
       "      <td>1</td>\n",
       "      <td>70.0</td>\n",
       "      <td>0</td>\n",
       "      <td>0</td>\n",
       "      <td>1</td>\n",
       "      <td>0</td>\n",
       "      <td>0</td>\n",
       "      <td>69.04</td>\n",
       "      <td>35.9</td>\n",
       "      <td>1</td>\n",
       "      <td>0</td>\n",
       "    </tr>\n",
       "    <tr>\n",
       "      <th>212</th>\n",
       "      <td>1</td>\n",
       "      <td>52.0</td>\n",
       "      <td>0</td>\n",
       "      <td>0</td>\n",
       "      <td>1</td>\n",
       "      <td>0</td>\n",
       "      <td>1</td>\n",
       "      <td>77.59</td>\n",
       "      <td>17.7</td>\n",
       "      <td>1</td>\n",
       "      <td>0</td>\n",
       "    </tr>\n",
       "    <tr>\n",
       "      <th>213</th>\n",
       "      <td>1</td>\n",
       "      <td>75.0</td>\n",
       "      <td>0</td>\n",
       "      <td>1</td>\n",
       "      <td>1</td>\n",
       "      <td>1</td>\n",
       "      <td>0</td>\n",
       "      <td>243.53</td>\n",
       "      <td>27.0</td>\n",
       "      <td>0</td>\n",
       "      <td>0</td>\n",
       "    </tr>\n",
       "    <tr>\n",
       "      <th>214</th>\n",
       "      <td>1</td>\n",
       "      <td>32.0</td>\n",
       "      <td>0</td>\n",
       "      <td>0</td>\n",
       "      <td>1</td>\n",
       "      <td>0</td>\n",
       "      <td>0</td>\n",
       "      <td>77.67</td>\n",
       "      <td>32.3</td>\n",
       "      <td>2</td>\n",
       "      <td>0</td>\n",
       "    </tr>\n",
       "    <tr>\n",
       "      <th>...</th>\n",
       "      <td>...</td>\n",
       "      <td>...</td>\n",
       "      <td>...</td>\n",
       "      <td>...</td>\n",
       "      <td>...</td>\n",
       "      <td>...</td>\n",
       "      <td>...</td>\n",
       "      <td>...</td>\n",
       "      <td>...</td>\n",
       "      <td>...</td>\n",
       "      <td>...</td>\n",
       "    </tr>\n",
       "    <tr>\n",
       "      <th>4976</th>\n",
       "      <td>0</td>\n",
       "      <td>41.0</td>\n",
       "      <td>0</td>\n",
       "      <td>0</td>\n",
       "      <td>0</td>\n",
       "      <td>0</td>\n",
       "      <td>0</td>\n",
       "      <td>70.15</td>\n",
       "      <td>29.8</td>\n",
       "      <td>1</td>\n",
       "      <td>0</td>\n",
       "    </tr>\n",
       "    <tr>\n",
       "      <th>4977</th>\n",
       "      <td>0</td>\n",
       "      <td>40.0</td>\n",
       "      <td>0</td>\n",
       "      <td>0</td>\n",
       "      <td>1</td>\n",
       "      <td>0</td>\n",
       "      <td>1</td>\n",
       "      <td>191.15</td>\n",
       "      <td>31.1</td>\n",
       "      <td>2</td>\n",
       "      <td>0</td>\n",
       "    </tr>\n",
       "    <tr>\n",
       "      <th>4978</th>\n",
       "      <td>1</td>\n",
       "      <td>45.0</td>\n",
       "      <td>1</td>\n",
       "      <td>0</td>\n",
       "      <td>1</td>\n",
       "      <td>3</td>\n",
       "      <td>0</td>\n",
       "      <td>95.02</td>\n",
       "      <td>31.8</td>\n",
       "      <td>2</td>\n",
       "      <td>0</td>\n",
       "    </tr>\n",
       "    <tr>\n",
       "      <th>4979</th>\n",
       "      <td>0</td>\n",
       "      <td>40.0</td>\n",
       "      <td>0</td>\n",
       "      <td>0</td>\n",
       "      <td>1</td>\n",
       "      <td>0</td>\n",
       "      <td>0</td>\n",
       "      <td>83.94</td>\n",
       "      <td>30.0</td>\n",
       "      <td>2</td>\n",
       "      <td>0</td>\n",
       "    </tr>\n",
       "    <tr>\n",
       "      <th>4980</th>\n",
       "      <td>1</td>\n",
       "      <td>80.0</td>\n",
       "      <td>1</td>\n",
       "      <td>0</td>\n",
       "      <td>1</td>\n",
       "      <td>0</td>\n",
       "      <td>1</td>\n",
       "      <td>83.75</td>\n",
       "      <td>29.1</td>\n",
       "      <td>0</td>\n",
       "      <td>0</td>\n",
       "    </tr>\n",
       "  </tbody>\n",
       "</table>\n",
       "<p>3280 rows × 11 columns</p>\n",
       "</div>"
      ],
      "text/plain": [
       "      gender   age  hypertension  heart_disease  ever_married  work_type  \\\n",
       "209        0  58.0             1              0             1          0   \n",
       "211        1  70.0             0              0             1          0   \n",
       "212        1  52.0             0              0             1          0   \n",
       "213        1  75.0             0              1             1          1   \n",
       "214        1  32.0             0              0             1          0   \n",
       "...      ...   ...           ...            ...           ...        ...   \n",
       "4976       0  41.0             0              0             0          0   \n",
       "4977       0  40.0             0              0             1          0   \n",
       "4978       1  45.0             1              0             1          3   \n",
       "4979       0  40.0             0              0             1          0   \n",
       "4980       1  80.0             1              0             1          0   \n",
       "\n",
       "      Residence_type  avg_glucose_level   bmi  smoking_status  stroke  \n",
       "209                1              87.96  39.2               0       0  \n",
       "211                0              69.04  35.9               1       0  \n",
       "212                1              77.59  17.7               1       0  \n",
       "213                0             243.53  27.0               0       0  \n",
       "214                0              77.67  32.3               2       0  \n",
       "...              ...                ...   ...             ...     ...  \n",
       "4976               0              70.15  29.8               1       0  \n",
       "4977               1             191.15  31.1               2       0  \n",
       "4978               0              95.02  31.8               2       0  \n",
       "4979               0              83.94  30.0               2       0  \n",
       "4980               1              83.75  29.1               0       0  \n",
       "\n",
       "[3280 rows x 11 columns]"
      ]
     },
     "execution_count": 52,
     "metadata": {},
     "output_type": "execute_result"
    }
   ],
   "source": [
    "grouped = data.groupby(data.stroke)\n",
    "data_new2 = grouped.get_group(0)\n",
    "data_new2"
   ]
  },
  {
   "cell_type": "code",
   "execution_count": 53,
   "id": "cc0cd5bd",
   "metadata": {
    "id": "OBfPeku0lqJT",
    "outputId": "0acbfe46-1b98-4763-a78f-b80c7dce1b80",
    "papermill": {
     "duration": 0.057008,
     "end_time": "2023-10-25T09:25:08.546625",
     "exception": false,
     "start_time": "2023-10-25T09:25:08.489617",
     "status": "completed"
    },
    "tags": []
   },
   "outputs": [
    {
     "data": {
      "text/plain": [
       "gender\n",
       "1    1984\n",
       "0    1296\n",
       "Name: count, dtype: int64"
      ]
     },
     "execution_count": 53,
     "metadata": {},
     "output_type": "execute_result"
    }
   ],
   "source": [
    "data_new2['gender'].value_counts()"
   ]
  },
  {
   "cell_type": "code",
   "execution_count": 54,
   "id": "0bc07475",
   "metadata": {
    "id": "e54e4HfNlwDM",
    "outputId": "df6d52d0-bea0-41ae-8811-d8a565109a2f",
    "papermill": {
     "duration": 0.300475,
     "end_time": "2023-10-25T09:25:08.891410",
     "exception": false,
     "start_time": "2023-10-25T09:25:08.590935",
     "status": "completed"
    },
    "tags": []
   },
   "outputs": [
    {
     "data": {
      "text/plain": [
       "<matplotlib.legend.Legend at 0x20261ad94d0>"
      ]
     },
     "execution_count": 54,
     "metadata": {},
     "output_type": "execute_result"
    },
    {
     "data": {
      "image/png": "[encoded data removed]",
      "text/plain": [
       "<Figure size 640x480 with 1 Axes>"
      ]
     },
     "metadata": {},
     "output_type": "display_data"
    }
   ],
   "source": [
    "gender=[1984, 1296]\n",
    "plt.pie(gender,  radius=1.7, colors=[\"#98c1d9\", \"#1d3557\"], \n",
    "        rotatelabels=False, autopct= \"%1.0f%%\")\n",
    "plt.title('Females who does not have a brain stroke VS Males who does not have brain stroke ')\n",
    "plt.legend(labels=[\"Female\", \"Male\"])"
   ]
  },
  {
   "cell_type": "code",
   "execution_count": 55,
   "id": "8ec24367",
   "metadata": {
    "id": "p5ZdsEL_l466",
    "outputId": "84d2a0aa-c939-4b3d-80b9-5fa28522378a",
    "papermill": {
     "duration": 0.064621,
     "end_time": "2023-10-25T09:25:09.001175",
     "exception": false,
     "start_time": "2023-10-25T09:25:08.936554",
     "status": "completed"
    },
    "tags": []
   },
   "outputs": [
    {
     "data": {
      "text/html": [
       "<div>\n",
       "<style scoped>\n",
       "    .dataframe tbody tr th:only-of-type {\n",
       "        vertical-align: middle;\n",
       "    }\n",
       "\n",
       "    .dataframe tbody tr th {\n",
       "        vertical-align: top;\n",
       "    }\n",
       "\n",
       "    .dataframe thead th {\n",
       "        text-align: right;\n",
       "    }\n",
       "</style>\n",
       "<table border=\"1\" class=\"dataframe\">\n",
       "  <thead>\n",
       "    <tr style=\"text-align: right;\">\n",
       "      <th></th>\n",
       "      <th></th>\n",
       "      <th>hypertension</th>\n",
       "    </tr>\n",
       "    <tr>\n",
       "      <th>gender</th>\n",
       "      <th>hypertension</th>\n",
       "      <th></th>\n",
       "    </tr>\n",
       "  </thead>\n",
       "  <tbody>\n",
       "    <tr>\n",
       "      <th rowspan=\"2\" valign=\"top\">0</th>\n",
       "      <th>0</th>\n",
       "      <td>1130</td>\n",
       "    </tr>\n",
       "    <tr>\n",
       "      <th>1</th>\n",
       "      <td>166</td>\n",
       "    </tr>\n",
       "    <tr>\n",
       "      <th rowspan=\"2\" valign=\"top\">1</th>\n",
       "      <th>0</th>\n",
       "      <td>1783</td>\n",
       "    </tr>\n",
       "    <tr>\n",
       "      <th>1</th>\n",
       "      <td>201</td>\n",
       "    </tr>\n",
       "  </tbody>\n",
       "</table>\n",
       "</div>"
      ],
      "text/plain": [
       "                     hypertension\n",
       "gender hypertension              \n",
       "0      0                     1130\n",
       "       1                      166\n",
       "1      0                     1783\n",
       "       1                      201"
      ]
     },
     "execution_count": 55,
     "metadata": {},
     "output_type": "execute_result"
    }
   ],
   "source": [
    "data_new2.groupby(['gender', 'hypertension']).agg({'hypertension': 'count'})"
   ]
  },
  {
   "cell_type": "code",
   "execution_count": 56,
   "id": "9da435bb",
   "metadata": {
    "id": "jC3jwxLTmQX5",
    "outputId": "55609878-2b29-4a2a-cda4-30850f0a8179",
    "papermill": {
     "duration": 0.37117,
     "end_time": "2023-10-25T09:25:09.417777",
     "exception": false,
     "start_time": "2023-10-25T09:25:09.046607",
     "status": "completed"
    },
    "tags": []
   },
   "outputs": [
    {
     "data": {
      "text/plain": [
       "<matplotlib.legend.Legend at 0x20261abf8d0>"
      ]
     },
     "execution_count": 56,
     "metadata": {},
     "output_type": "execute_result"
    },
    {
     "data": {
      "image/png": "[encoded data removed]",
      "text/plain": [
       "<Figure size 800x500 with 1 Axes>"
      ]
     },
     "metadata": {},
     "output_type": "display_data"
    }
   ],
   "source": [
    "have_hypertension = (166, 201)\n",
    "does_not_have_hypertension = (1130, 1783)\n",
    "X = np.arange(2) \n",
    "plt.figure(figsize=(8, 5))\n",
    "width = 0.25 \n",
    "plt.bar(X, have_hypertension, width, label='have_hypertension', color=\"#1d3557\")\n",
    "plt.bar(X + width, does_not_have_hypertension, width, label='does_not_have_hypertension', color=\"#98c1d9\")\n",
    "plt.xticks(X + width / 2, (\"Male\", \"Female\"))\n",
    "plt.title(\"who have hypertension VS who doesn't have hypertension \")\n",
    "plt.legend(loc='best')"
   ]
  },
  {
   "cell_type": "code",
   "execution_count": 57,
   "id": "79a4ecd8",
   "metadata": {
    "id": "A5aBlT1Lmbes",
    "outputId": "cf9d58a1-ab68-4537-a122-b18c9ee8c9e3",
    "papermill": {
     "duration": 0.066206,
     "end_time": "2023-10-25T09:25:09.530581",
     "exception": false,
     "start_time": "2023-10-25T09:25:09.464375",
     "status": "completed"
    },
    "tags": []
   },
   "outputs": [
    {
     "data": {
      "text/html": [
       "<div>\n",
       "<style scoped>\n",
       "    .dataframe tbody tr th:only-of-type {\n",
       "        vertical-align: middle;\n",
       "    }\n",
       "\n",
       "    .dataframe tbody tr th {\n",
       "        vertical-align: top;\n",
       "    }\n",
       "\n",
       "    .dataframe thead th {\n",
       "        text-align: right;\n",
       "    }\n",
       "</style>\n",
       "<table border=\"1\" class=\"dataframe\">\n",
       "  <thead>\n",
       "    <tr style=\"text-align: right;\">\n",
       "      <th></th>\n",
       "      <th></th>\n",
       "      <th>heart_disease</th>\n",
       "    </tr>\n",
       "    <tr>\n",
       "      <th>gender</th>\n",
       "      <th>heart_disease</th>\n",
       "      <th></th>\n",
       "    </tr>\n",
       "  </thead>\n",
       "  <tbody>\n",
       "    <tr>\n",
       "      <th rowspan=\"2\" valign=\"top\">0</th>\n",
       "      <th>0</th>\n",
       "      <td>1186</td>\n",
       "    </tr>\n",
       "    <tr>\n",
       "      <th>1</th>\n",
       "      <td>110</td>\n",
       "    </tr>\n",
       "    <tr>\n",
       "      <th rowspan=\"2\" valign=\"top\">1</th>\n",
       "      <th>0</th>\n",
       "      <td>1906</td>\n",
       "    </tr>\n",
       "    <tr>\n",
       "      <th>1</th>\n",
       "      <td>78</td>\n",
       "    </tr>\n",
       "  </tbody>\n",
       "</table>\n",
       "</div>"
      ],
      "text/plain": [
       "                      heart_disease\n",
       "gender heart_disease               \n",
       "0      0                       1186\n",
       "       1                        110\n",
       "1      0                       1906\n",
       "       1                         78"
      ]
     },
     "execution_count": 57,
     "metadata": {},
     "output_type": "execute_result"
    }
   ],
   "source": [
    "data_new2.groupby(['gender', 'heart_disease']).agg({'heart_disease': 'count'})"
   ]
  },
  {
   "cell_type": "code",
   "execution_count": 58,
   "id": "51c88311",
   "metadata": {
    "id": "AsAImoL1mlrr",
    "outputId": "08341ba0-30ef-4197-8351-fbd34a5f257e",
    "papermill": {
     "duration": 0.353537,
     "end_time": "2023-10-25T09:25:09.931484",
     "exception": false,
     "start_time": "2023-10-25T09:25:09.577947",
     "status": "completed"
    },
    "tags": []
   },
   "outputs": [
    {
     "data": {
      "text/plain": [
       "<matplotlib.legend.Legend at 0x202637da090>"
      ]
     },
     "execution_count": 58,
     "metadata": {},
     "output_type": "execute_result"
    },
    {
     "data": {
      "image/png": "[encoded data removed]",
      "text/plain": [
       "<Figure size 800x500 with 1 Axes>"
      ]
     },
     "metadata": {},
     "output_type": "display_data"
    }
   ],
   "source": [
    "have_heart_disease = (110, 78)\n",
    "does_not_have_heart_disease = (1186, 1906)\n",
    "X = np.arange(2) \n",
    "plt.figure(figsize=(8, 5))\n",
    "width = 0.25 \n",
    "plt.bar(X, have_heart_disease, width, label='have_heart_disease', color=\"#1d3557\")\n",
    "plt.bar(X + width, does_not_have_heart_disease, width, label='does_not_have_heart_disease', color=\"#98c1d9\")\n",
    "plt.xticks(X + width / 2, (\"Male\", \"Female\"))\n",
    "plt.title(\"who have heart diseases VS who doesn't have heart diseases \")\n",
    "plt.legend(loc='best')"
   ]
  },
  {
   "cell_type": "code",
   "execution_count": 59,
   "id": "189d4f5e",
   "metadata": {
    "id": "JCK4ebUlmwop",
    "outputId": "fbadd91c-ce50-4ccd-a294-baabe62e72f6",
    "papermill": {
     "duration": 0.07098,
     "end_time": "2023-10-25T09:25:10.050730",
     "exception": false,
     "start_time": "2023-10-25T09:25:09.979750",
     "status": "completed"
    },
    "tags": []
   },
   "outputs": [
    {
     "data": {
      "text/html": [
       "<div>\n",
       "<style scoped>\n",
       "    .dataframe tbody tr th:only-of-type {\n",
       "        vertical-align: middle;\n",
       "    }\n",
       "\n",
       "    .dataframe tbody tr th {\n",
       "        vertical-align: top;\n",
       "    }\n",
       "\n",
       "    .dataframe thead th {\n",
       "        text-align: right;\n",
       "    }\n",
       "</style>\n",
       "<table border=\"1\" class=\"dataframe\">\n",
       "  <thead>\n",
       "    <tr style=\"text-align: right;\">\n",
       "      <th></th>\n",
       "      <th></th>\n",
       "      <th>ever_married</th>\n",
       "    </tr>\n",
       "    <tr>\n",
       "      <th>gender</th>\n",
       "      <th>ever_married</th>\n",
       "      <th></th>\n",
       "    </tr>\n",
       "  </thead>\n",
       "  <tbody>\n",
       "    <tr>\n",
       "      <th rowspan=\"2\" valign=\"top\">0</th>\n",
       "      <th>0</th>\n",
       "      <td>305</td>\n",
       "    </tr>\n",
       "    <tr>\n",
       "      <th>1</th>\n",
       "      <td>991</td>\n",
       "    </tr>\n",
       "    <tr>\n",
       "      <th rowspan=\"2\" valign=\"top\">1</th>\n",
       "      <th>0</th>\n",
       "      <td>499</td>\n",
       "    </tr>\n",
       "    <tr>\n",
       "      <th>1</th>\n",
       "      <td>1485</td>\n",
       "    </tr>\n",
       "  </tbody>\n",
       "</table>\n",
       "</div>"
      ],
      "text/plain": [
       "                     ever_married\n",
       "gender ever_married              \n",
       "0      0                      305\n",
       "       1                      991\n",
       "1      0                      499\n",
       "       1                     1485"
      ]
     },
     "execution_count": 59,
     "metadata": {},
     "output_type": "execute_result"
    }
   ],
   "source": [
    "data_new2.groupby(['gender', 'ever_married']).agg({'ever_married': 'count'})"
   ]
  },
  {
   "cell_type": "code",
   "execution_count": 60,
   "id": "6853c845",
   "metadata": {
    "id": "DFLH-GVGm9Ag",
    "outputId": "a8547699-1ad7-4dce-e020-212424b7118b",
    "papermill": {
     "duration": 0.285668,
     "end_time": "2023-10-25T09:25:10.385506",
     "exception": false,
     "start_time": "2023-10-25T09:25:10.099838",
     "status": "completed"
    },
    "tags": []
   },
   "outputs": [
    {
     "data": {
      "text/plain": [
       "<matplotlib.legend.Legend at 0x20261cfc850>"
      ]
     },
     "execution_count": 60,
     "metadata": {},
     "output_type": "execute_result"
    },
    {
     "data": {
      "image/png": "[encoded data removed]",
      "text/plain": [
       "<Figure size 800x500 with 1 Axes>"
      ]
     },
     "metadata": {},
     "output_type": "display_data"
    }
   ],
   "source": [
    "ever_married = (991, 1485)\n",
    "does_not_married = (305, 499)\n",
    "X = np.arange(2) \n",
    "plt.figure(figsize=(8, 5))\n",
    "width = 0.25 \n",
    "plt.bar(X, ever_married, width, label='ever_married', color=\"#1d3557\")\n",
    "plt.bar(X + width, does_not_married, width, label='does_not_married', color=\"#98c1d9\")\n",
    "plt.xticks(X + width / 2, (\"Male\", \"Female\"))\n",
    "plt.legend(loc='best')"
   ]
  },
  {
   "cell_type": "code",
   "execution_count": 61,
   "id": "1a7a9755",
   "metadata": {
    "id": "SJWxMDaEnOQK",
    "outputId": "47006cf9-347d-4b5d-82fc-cbc77c26019b",
    "papermill": {
     "duration": 0.067976,
     "end_time": "2023-10-25T09:25:10.502907",
     "exception": false,
     "start_time": "2023-10-25T09:25:10.434931",
     "status": "completed"
    },
    "tags": []
   },
   "outputs": [
    {
     "data": {
      "text/html": [
       "<div>\n",
       "<style scoped>\n",
       "    .dataframe tbody tr th:only-of-type {\n",
       "        vertical-align: middle;\n",
       "    }\n",
       "\n",
       "    .dataframe tbody tr th {\n",
       "        vertical-align: top;\n",
       "    }\n",
       "\n",
       "    .dataframe thead th {\n",
       "        text-align: right;\n",
       "    }\n",
       "</style>\n",
       "<table border=\"1\" class=\"dataframe\">\n",
       "  <thead>\n",
       "    <tr style=\"text-align: right;\">\n",
       "      <th></th>\n",
       "      <th></th>\n",
       "      <th>work_type</th>\n",
       "    </tr>\n",
       "    <tr>\n",
       "      <th>gender</th>\n",
       "      <th>work_type</th>\n",
       "      <th></th>\n",
       "    </tr>\n",
       "  </thead>\n",
       "  <tbody>\n",
       "    <tr>\n",
       "      <th rowspan=\"4\" valign=\"top\">0</th>\n",
       "      <th>0</th>\n",
       "      <td>836</td>\n",
       "    </tr>\n",
       "    <tr>\n",
       "      <th>1</th>\n",
       "      <td>222</td>\n",
       "    </tr>\n",
       "    <tr>\n",
       "      <th>2</th>\n",
       "      <td>35</td>\n",
       "    </tr>\n",
       "    <tr>\n",
       "      <th>3</th>\n",
       "      <td>203</td>\n",
       "    </tr>\n",
       "    <tr>\n",
       "      <th rowspan=\"4\" valign=\"top\">1</th>\n",
       "      <th>0</th>\n",
       "      <td>1282</td>\n",
       "    </tr>\n",
       "    <tr>\n",
       "      <th>1</th>\n",
       "      <td>372</td>\n",
       "    </tr>\n",
       "    <tr>\n",
       "      <th>2</th>\n",
       "      <td>34</td>\n",
       "    </tr>\n",
       "    <tr>\n",
       "      <th>3</th>\n",
       "      <td>296</td>\n",
       "    </tr>\n",
       "  </tbody>\n",
       "</table>\n",
       "</div>"
      ],
      "text/plain": [
       "                  work_type\n",
       "gender work_type           \n",
       "0      0                836\n",
       "       1                222\n",
       "       2                 35\n",
       "       3                203\n",
       "1      0               1282\n",
       "       1                372\n",
       "       2                 34\n",
       "       3                296"
      ]
     },
     "execution_count": 61,
     "metadata": {},
     "output_type": "execute_result"
    }
   ],
   "source": [
    "data_new2.groupby(['gender', 'work_type']).agg({'work_type': 'count'})"
   ]
  },
  {
   "cell_type": "code",
   "execution_count": 81,
   "id": "87a85220",
   "metadata": {
    "id": "wb16z-xYnSnI",
    "outputId": "8c84a1c2-9764-4ad4-86a9-a6342f543a8f",
    "papermill": {
     "duration": 0.353632,
     "end_time": "2023-10-25T09:25:10.905063",
     "exception": false,
     "start_time": "2023-10-25T09:25:10.551431",
     "status": "completed"
    },
    "tags": []
   },
   "outputs": [
    {
     "data": {
      "text/plain": [
       "<matplotlib.legend.Legend at 0x202660ed890>"
      ]
     },
     "execution_count": 81,
     "metadata": {},
     "output_type": "execute_result"
    },
    {
     "data": {
      "image/png": "[encoded data removed]",
      "text/plain": [
       "<Figure size 800x500 with 1 Axes>"
      ]
     },
     "metadata": {},
     "output_type": "display_data"
    }
   ],
   "source": [
    "Private = (836, 1282)         \n",
    "Self_employed = (222,372)    \n",
    "children = (35 , 34)          \n",
    "Govt_job = (203 , 296)\n",
    "X = np.arange(2) \n",
    "plt.figure(figsize=(8, 5))\n",
    "width = 0.20 \n",
    "plt.bar(X, Private, width, label='Private', color=\"#0a1128\")\n",
    "plt.bar(X+width, Self_employed, width, label='Self-employed', color=\"#274c77\")\n",
    "plt.bar(X+2*width, children, width, label='children', color=\"#6096ba\")\n",
    "plt.bar(X+3* width, Govt_job, width, label='Govt_job', color=\"#a3cef1\")\n",
    "plt.xticks(X + width / 2, (\"Male\", \"Female\"))\n",
    "plt.title(\"Gender VS Work_type\")\n",
    "plt.legend(loc='best')"
   ]
  },
  {
   "cell_type": "code",
   "execution_count": 63,
   "id": "b0193d5d",
   "metadata": {
    "id": "6qq0Kbnyo2z0",
    "outputId": "f75c53f5-c73a-4fd7-d363-15925c79898f",
    "papermill": {
     "duration": 0.072779,
     "end_time": "2023-10-25T09:25:11.027698",
     "exception": false,
     "start_time": "2023-10-25T09:25:10.954919",
     "status": "completed"
    },
    "tags": []
   },
   "outputs": [
    {
     "data": {
      "text/html": [
       "<div>\n",
       "<style scoped>\n",
       "    .dataframe tbody tr th:only-of-type {\n",
       "        vertical-align: middle;\n",
       "    }\n",
       "\n",
       "    .dataframe tbody tr th {\n",
       "        vertical-align: top;\n",
       "    }\n",
       "\n",
       "    .dataframe thead th {\n",
       "        text-align: right;\n",
       "    }\n",
       "</style>\n",
       "<table border=\"1\" class=\"dataframe\">\n",
       "  <thead>\n",
       "    <tr style=\"text-align: right;\">\n",
       "      <th></th>\n",
       "      <th></th>\n",
       "      <th>smoking_status</th>\n",
       "    </tr>\n",
       "    <tr>\n",
       "      <th>gender</th>\n",
       "      <th>Residence_type</th>\n",
       "      <th></th>\n",
       "    </tr>\n",
       "  </thead>\n",
       "  <tbody>\n",
       "    <tr>\n",
       "      <th rowspan=\"2\" valign=\"top\">0</th>\n",
       "      <th>0</th>\n",
       "      <td>649</td>\n",
       "    </tr>\n",
       "    <tr>\n",
       "      <th>1</th>\n",
       "      <td>647</td>\n",
       "    </tr>\n",
       "    <tr>\n",
       "      <th rowspan=\"2\" valign=\"top\">1</th>\n",
       "      <th>0</th>\n",
       "      <td>963</td>\n",
       "    </tr>\n",
       "    <tr>\n",
       "      <th>1</th>\n",
       "      <td>1021</td>\n",
       "    </tr>\n",
       "  </tbody>\n",
       "</table>\n",
       "</div>"
      ],
      "text/plain": [
       "                       smoking_status\n",
       "gender Residence_type                \n",
       "0      0                          649\n",
       "       1                          647\n",
       "1      0                          963\n",
       "       1                         1021"
      ]
     },
     "execution_count": 63,
     "metadata": {},
     "output_type": "execute_result"
    }
   ],
   "source": [
    "data_new2.groupby(['gender', 'Residence_type']).agg({'smoking_status': 'count'})"
   ]
  },
  {
   "cell_type": "code",
   "execution_count": 64,
   "id": "a8b2ebbf",
   "metadata": {
    "id": "Qik96B-Vo-lj",
    "outputId": "fc3fefd7-70fa-4bc7-f7b5-8dddaba657c8",
    "papermill": {
     "duration": 0.289882,
     "end_time": "2023-10-25T09:25:11.369548",
     "exception": false,
     "start_time": "2023-10-25T09:25:11.079666",
     "status": "completed"
    },
    "tags": []
   },
   "outputs": [
    {
     "data": {
      "text/plain": [
       "<matplotlib.legend.Legend at 0x20264401c90>"
      ]
     },
     "execution_count": 64,
     "metadata": {},
     "output_type": "execute_result"
    },
    {
     "data": {
      "image/png": "[encoded data removed]",
      "text/plain": [
       "<Figure size 800x500 with 1 Axes>"
      ]
     },
     "metadata": {},
     "output_type": "display_data"
    }
   ],
   "source": [
    "Urban = (647, 1021)\n",
    "Rural = (649, 963)\n",
    "X = np.arange(2) \n",
    "plt.figure(figsize=(8, 5))\n",
    "width = 0.25 \n",
    "plt.bar(X, Urban, width, label='Urban', color=\"#1d3557\")\n",
    "plt.bar(X + width, Rural, width, label='Rural', color=\"#98c1d9\")\n",
    "plt.xticks(X + width / 2, (\"Male\", \"Female\"))\n",
    "plt.legend(loc='best')"
   ]
  },
  {
   "cell_type": "code",
   "execution_count": 65,
   "id": "02e26804",
   "metadata": {
    "id": "-lSAqcbYnePW",
    "outputId": "0c9e8986-b7e4-4db6-ceb8-d18568fe6801",
    "papermill": {
     "duration": 0.071205,
     "end_time": "2023-10-25T09:25:11.492133",
     "exception": false,
     "start_time": "2023-10-25T09:25:11.420928",
     "status": "completed"
    },
    "tags": []
   },
   "outputs": [
    {
     "data": {
      "text/html": [
       "<div>\n",
       "<style scoped>\n",
       "    .dataframe tbody tr th:only-of-type {\n",
       "        vertical-align: middle;\n",
       "    }\n",
       "\n",
       "    .dataframe tbody tr th {\n",
       "        vertical-align: top;\n",
       "    }\n",
       "\n",
       "    .dataframe thead th {\n",
       "        text-align: right;\n",
       "    }\n",
       "</style>\n",
       "<table border=\"1\" class=\"dataframe\">\n",
       "  <thead>\n",
       "    <tr style=\"text-align: right;\">\n",
       "      <th></th>\n",
       "      <th></th>\n",
       "      <th>smoking_status</th>\n",
       "    </tr>\n",
       "    <tr>\n",
       "      <th>gender</th>\n",
       "      <th>smoking_status</th>\n",
       "      <th></th>\n",
       "    </tr>\n",
       "  </thead>\n",
       "  <tbody>\n",
       "    <tr>\n",
       "      <th rowspan=\"3\" valign=\"top\">0</th>\n",
       "      <th>0</th>\n",
       "      <td>617</td>\n",
       "    </tr>\n",
       "    <tr>\n",
       "      <th>1</th>\n",
       "      <td>367</td>\n",
       "    </tr>\n",
       "    <tr>\n",
       "      <th>2</th>\n",
       "      <td>312</td>\n",
       "    </tr>\n",
       "    <tr>\n",
       "      <th rowspan=\"3\" valign=\"top\">1</th>\n",
       "      <th>0</th>\n",
       "      <td>1132</td>\n",
       "    </tr>\n",
       "    <tr>\n",
       "      <th>1</th>\n",
       "      <td>430</td>\n",
       "    </tr>\n",
       "    <tr>\n",
       "      <th>2</th>\n",
       "      <td>422</td>\n",
       "    </tr>\n",
       "  </tbody>\n",
       "</table>\n",
       "</div>"
      ],
      "text/plain": [
       "                       smoking_status\n",
       "gender smoking_status                \n",
       "0      0                          617\n",
       "       1                          367\n",
       "       2                          312\n",
       "1      0                         1132\n",
       "       1                          430\n",
       "       2                          422"
      ]
     },
     "execution_count": 65,
     "metadata": {},
     "output_type": "execute_result"
    }
   ],
   "source": [
    "data_new2.groupby(['gender', 'smoking_status']).agg({'smoking_status': 'count'})"
   ]
  },
  {
   "cell_type": "code",
   "execution_count": 66,
   "id": "5863462d",
   "metadata": {
    "id": "rOCONAnSniLA",
    "outputId": "82e06f4f-2bff-4065-e5f7-27564ae9bf19",
    "papermill": {
     "duration": 0.345642,
     "end_time": "2023-10-25T09:25:11.887109",
     "exception": false,
     "start_time": "2023-10-25T09:25:11.541467",
     "status": "completed"
    },
    "tags": []
   },
   "outputs": [
    {
     "data": {
      "text/plain": [
       "Text(0.5, 1.0, 'Gender VS smoking_status')"
      ]
     },
     "execution_count": 66,
     "metadata": {},
     "output_type": "execute_result"
    },
    {
     "data": {
      "image/png": "[encoded data removed]",
      "text/plain": [
       "<Figure size 800x500 with 1 Axes>"
      ]
     },
     "metadata": {},
     "output_type": "display_data"
    }
   ],
   "source": [
    "never_smoked  = (617, 1132)             \n",
    "formerly_smoked = (367 , 430)          \n",
    "smokes = (312 , 422)\n",
    "X = np.arange(2) \n",
    "plt.figure(figsize=(8, 5))\n",
    "width = 0.20 \n",
    "plt.bar(X, never_smoked, width, label='never_smoked', color=\"#0a1128\")\n",
    "plt.bar(X+width, formerly_smoked, width, label='formerly_smoked', color=\"#6096ba\")\n",
    "plt.bar(X+2* width, smokes, width, label='smokes', color=\"#a3cef1\")\n",
    "plt.xticks(X + width / 2, (\"Male\", \"Female\"))\n",
    "plt.legend(loc='best')\n",
    "plt.title(\"Gender VS smoking_status\")"
   ]
  },
  {
   "cell_type": "code",
   "execution_count": 67,
   "id": "fff21ffb",
   "metadata": {
    "id": "Vc5nF2fErX_i",
    "outputId": "41979623-6611-43ca-9a6d-2050690943c5",
    "papermill": {
     "duration": 0.076326,
     "end_time": "2023-10-25T09:25:12.014278",
     "exception": false,
     "start_time": "2023-10-25T09:25:11.937952",
     "status": "completed"
    },
    "tags": []
   },
   "outputs": [
    {
     "data": {
      "text/html": [
       "<div>\n",
       "<style scoped>\n",
       "    .dataframe tbody tr th:only-of-type {\n",
       "        vertical-align: middle;\n",
       "    }\n",
       "\n",
       "    .dataframe tbody tr th {\n",
       "        vertical-align: top;\n",
       "    }\n",
       "\n",
       "    .dataframe thead th {\n",
       "        text-align: right;\n",
       "    }\n",
       "</style>\n",
       "<table border=\"1\" class=\"dataframe\">\n",
       "  <thead>\n",
       "    <tr style=\"text-align: right;\">\n",
       "      <th></th>\n",
       "      <th>gender</th>\n",
       "      <th>age</th>\n",
       "      <th>hypertension</th>\n",
       "      <th>heart_disease</th>\n",
       "      <th>ever_married</th>\n",
       "      <th>work_type</th>\n",
       "      <th>Residence_type</th>\n",
       "      <th>avg_glucose_level</th>\n",
       "      <th>bmi</th>\n",
       "      <th>smoking_status</th>\n",
       "    </tr>\n",
       "  </thead>\n",
       "  <tbody>\n",
       "    <tr>\n",
       "      <th>0</th>\n",
       "      <td>0</td>\n",
       "      <td>67.0</td>\n",
       "      <td>0</td>\n",
       "      <td>1</td>\n",
       "      <td>1</td>\n",
       "      <td>0</td>\n",
       "      <td>1</td>\n",
       "      <td>228.69</td>\n",
       "      <td>36.6</td>\n",
       "      <td>1</td>\n",
       "    </tr>\n",
       "    <tr>\n",
       "      <th>1</th>\n",
       "      <td>0</td>\n",
       "      <td>80.0</td>\n",
       "      <td>0</td>\n",
       "      <td>1</td>\n",
       "      <td>1</td>\n",
       "      <td>0</td>\n",
       "      <td>0</td>\n",
       "      <td>105.92</td>\n",
       "      <td>32.5</td>\n",
       "      <td>0</td>\n",
       "    </tr>\n",
       "    <tr>\n",
       "      <th>2</th>\n",
       "      <td>1</td>\n",
       "      <td>49.0</td>\n",
       "      <td>0</td>\n",
       "      <td>0</td>\n",
       "      <td>1</td>\n",
       "      <td>0</td>\n",
       "      <td>1</td>\n",
       "      <td>171.23</td>\n",
       "      <td>34.4</td>\n",
       "      <td>2</td>\n",
       "    </tr>\n",
       "    <tr>\n",
       "      <th>3</th>\n",
       "      <td>1</td>\n",
       "      <td>79.0</td>\n",
       "      <td>1</td>\n",
       "      <td>0</td>\n",
       "      <td>1</td>\n",
       "      <td>1</td>\n",
       "      <td>0</td>\n",
       "      <td>174.12</td>\n",
       "      <td>24.0</td>\n",
       "      <td>0</td>\n",
       "    </tr>\n",
       "    <tr>\n",
       "      <th>4</th>\n",
       "      <td>0</td>\n",
       "      <td>81.0</td>\n",
       "      <td>0</td>\n",
       "      <td>0</td>\n",
       "      <td>1</td>\n",
       "      <td>0</td>\n",
       "      <td>1</td>\n",
       "      <td>186.21</td>\n",
       "      <td>29.0</td>\n",
       "      <td>1</td>\n",
       "    </tr>\n",
       "  </tbody>\n",
       "</table>\n",
       "</div>"
      ],
      "text/plain": [
       "   gender   age  hypertension  heart_disease  ever_married  work_type  \\\n",
       "0       0  67.0             0              1             1          0   \n",
       "1       0  80.0             0              1             1          0   \n",
       "2       1  49.0             0              0             1          0   \n",
       "3       1  79.0             1              0             1          1   \n",
       "4       0  81.0             0              0             1          0   \n",
       "\n",
       "   Residence_type  avg_glucose_level   bmi  smoking_status  \n",
       "0               1             228.69  36.6               1  \n",
       "1               0             105.92  32.5               0  \n",
       "2               1             171.23  34.4               2  \n",
       "3               0             174.12  24.0               0  \n",
       "4               1             186.21  29.0               1  "
      ]
     },
     "execution_count": 67,
     "metadata": {},
     "output_type": "execute_result"
    }
   ],
   "source": [
    "# y includes our labels and data includes our features\n",
    "y = data.stroke   \n",
    "list = ['stroke']                      \n",
    "x = data.drop(list,axis = 1 )\n",
    "x.head()"
   ]
  },
  {
   "cell_type": "code",
   "execution_count": 68,
   "id": "c70a0277",
   "metadata": {
    "id": "vOR7jwrMrQyy",
    "papermill": {
     "duration": 0.396553,
     "end_time": "2023-10-25T09:25:12.463312",
     "exception": false,
     "start_time": "2023-10-25T09:25:12.066759",
     "status": "completed"
    },
    "tags": []
   },
   "outputs": [],
   "source": [
    "# split x and y into training and testing sets\n",
    "from sklearn.model_selection import train_test_split\n",
    "x_train, x_test, y_train, y_test = train_test_split(x, y, test_size=0.25, random_state = 0)"
   ]
  },
  {
   "cell_type": "markdown",
   "id": "a2f0dbdb",
   "metadata": {
    "id": "jyNwjyEW4PtZ",
    "papermill": {
     "duration": 0.050132,
     "end_time": "2023-10-25T09:25:12.566273",
     "exception": false,
     "start_time": "2023-10-25T09:25:12.516141",
     "status": "completed"
    },
    "tags": []
   },
   "source": [
    "# **Logistic Regression**"
   ]
  },
  {
   "cell_type": "code",
   "execution_count": 69,
   "id": "76b8f966",
   "metadata": {
    "id": "NpePEzZksDhH",
    "papermill": {
     "duration": 0.168281,
     "end_time": "2023-10-25T09:25:12.785099",
     "exception": false,
     "start_time": "2023-10-25T09:25:12.616818",
     "status": "completed"
    },
    "tags": []
   },
   "outputs": [],
   "source": [
    "# import the model \n",
    "from sklearn.linear_model import LogisticRegression\n",
    "logreg = LogisticRegression()"
   ]
  },
  {
   "cell_type": "code",
   "execution_count": 70,
   "id": "176696d2",
   "metadata": {
    "id": "veG7hQyksF1_",
    "outputId": "a23826ef-cf4d-46ec-8228-fcd3e0826b8e",
    "papermill": {
     "duration": 0.162819,
     "end_time": "2023-10-25T09:25:12.999483",
     "exception": false,
     "start_time": "2023-10-25T09:25:12.836664",
     "status": "completed"
    },
    "tags": []
   },
   "outputs": [
    {
     "name": "stderr",
     "output_type": "stream",
     "text": [
      "C:\\Users\\Ceon Addy Ilagan\\Documents\\Ceon Addy Louise Ilagan_progmod\\envs\\Bioeng\\Lib\\site-packages\\sklearn\\linear_model\\_logistic.py:460: ConvergenceWarning: lbfgs failed to converge (status=1):\n",
      "STOP: TOTAL NO. of ITERATIONS REACHED LIMIT.\n",
      "\n",
      "Increase the number of iterations (max_iter) or scale the data as shown in:\n",
      "    https://scikit-learn.org/stable/modules/preprocessing.html\n",
      "Please also refer to the documentation for alternative solver options:\n",
      "    https://scikit-learn.org/stable/modules/linear_model.html#logistic-regression\n",
      "  n_iter_i = _check_optimize_result(\n"
     ]
    },
    {
     "data": {
      "text/html": [
       "<style>#sk-container-id-1 {color: black;}#sk-container-id-1 pre{padding: 0;}#sk-container-id-1 div.sk-toggleable {background-color: white;}#sk-container-id-1 label.sk-toggleable__label {cursor: pointer;display: block;width: 100%;margin-bottom: 0;padding: 0.3em;box-sizing: border-box;text-align: center;}#sk-container-id-1 label.sk-toggleable__label-arrow:before {content: \"▸\";float: left;margin-right: 0.25em;color: #696969;}#sk-container-id-1 label.sk-toggleable__label-arrow:hover:before {color: black;}#sk-container-id-1 div.sk-estimator:hover label.sk-toggleable__label-arrow:before {color: black;}#sk-container-id-1 div.sk-toggleable__content {max-height: 0;max-width: 0;overflow: hidden;text-align: left;background-color: #f0f8ff;}#sk-container-id-1 div.sk-toggleable__content pre {margin: 0.2em;color: black;border-radius: 0.25em;background-color: #f0f8ff;}#sk-container-id-1 input.sk-toggleable__control:checked~div.sk-toggleable__content {max-height: 200px;max-width: 100%;overflow: auto;}#sk-container-id-1 input.sk-toggleable__control:checked~label.sk-toggleable__label-arrow:before {content: \"▾\";}#sk-container-id-1 div.sk-estimator input.sk-toggleable__control:checked~label.sk-toggleable__label {background-color: #d4ebff;}#sk-container-id-1 div.sk-label input.sk-toggleable__control:checked~label.sk-toggleable__label {background-color: #d4ebff;}#sk-container-id-1 input.sk-hidden--visually {border: 0;clip: rect(1px 1px 1px 1px);clip: rect(1px, 1px, 1px, 1px);height: 1px;margin: -1px;overflow: hidden;padding: 0;position: absolute;width: 1px;}#sk-container-id-1 div.sk-estimator {font-family: monospace;background-color: #f0f8ff;border: 1px dotted black;border-radius: 0.25em;box-sizing: border-box;margin-bottom: 0.5em;}#sk-container-id-1 div.sk-estimator:hover {background-color: #d4ebff;}#sk-container-id-1 div.sk-parallel-item::after {content: \"\";width: 100%;border-bottom: 1px solid gray;flex-grow: 1;}#sk-container-id-1 div.sk-label:hover label.sk-toggleable__label {background-color: #d4ebff;}#sk-container-id-1 div.sk-serial::before {content: \"\";position: absolute;border-left: 1px solid gray;box-sizing: border-box;top: 0;bottom: 0;left: 50%;z-index: 0;}#sk-container-id-1 div.sk-serial {display: flex;flex-direction: column;align-items: center;background-color: white;padding-right: 0.2em;padding-left: 0.2em;position: relative;}#sk-container-id-1 div.sk-item {position: relative;z-index: 1;}#sk-container-id-1 div.sk-parallel {display: flex;align-items: stretch;justify-content: center;background-color: white;position: relative;}#sk-container-id-1 div.sk-item::before, #sk-container-id-1 div.sk-parallel-item::before {content: \"\";position: absolute;border-left: 1px solid gray;box-sizing: border-box;top: 0;bottom: 0;left: 50%;z-index: -1;}#sk-container-id-1 div.sk-parallel-item {display: flex;flex-direction: column;z-index: 1;position: relative;background-color: white;}#sk-container-id-1 div.sk-parallel-item:first-child::after {align-self: flex-end;width: 50%;}#sk-container-id-1 div.sk-parallel-item:last-child::after {align-self: flex-start;width: 50%;}#sk-container-id-1 div.sk-parallel-item:only-child::after {width: 0;}#sk-container-id-1 div.sk-dashed-wrapped {border: 1px dashed gray;margin: 0 0.4em 0.5em 0.4em;box-sizing: border-box;padding-bottom: 0.4em;background-color: white;}#sk-container-id-1 div.sk-label label {font-family: monospace;font-weight: bold;display: inline-block;line-height: 1.2em;}#sk-container-id-1 div.sk-label-container {text-align: center;}#sk-container-id-1 div.sk-container {/* jupyter's `normalize.less` sets `[hidden] { display: none; }` but bootstrap.min.css set `[hidden] { display: none !important; }` so we also need the `!important` here to be able to override the default hidden behavior on the sphinx rendered scikit-learn.org. See: https://github.com/scikit-learn/scikit-learn/issues/21755 */display: inline-block !important;position: relative;}#sk-container-id-1 div.sk-text-repr-fallback {display: none;}</style><div id=\"sk-container-id-1\" class=\"sk-top-container\"><div class=\"sk-text-repr-fallback\"><pre>LogisticRegression()</pre><b>In a Jupyter environment, please rerun this cell to show the HTML representation or trust the notebook. <br />On GitHub, the HTML representation is unable to render, please try loading this page with nbviewer.org.</b></div><div class=\"sk-container\" hidden><div class=\"sk-item\"><div class=\"sk-estimator sk-toggleable\"><input class=\"sk-toggleable__control sk-hidden--visually\" id=\"sk-estimator-id-1\" type=\"checkbox\" checked><label for=\"sk-estimator-id-1\" class=\"sk-toggleable__label sk-toggleable__label-arrow\">LogisticRegression</label><div class=\"sk-toggleable__content\"><pre>LogisticRegression()</pre></div></div></div></div></div>"
      ],
      "text/plain": [
       "LogisticRegression()"
      ]
     },
     "execution_count": 70,
     "metadata": {},
     "output_type": "execute_result"
    }
   ],
   "source": [
    "#fit the model with data\n",
    "logreg.fit(x_train, y_train)"
   ]
  },
  {
   "cell_type": "code",
   "execution_count": 71,
   "id": "16df6543",
   "metadata": {
    "id": "Xp8jYc6hsIDx",
    "papermill": {
     "duration": 0.067058,
     "end_time": "2023-10-25T09:25:13.166631",
     "exception": false,
     "start_time": "2023-10-25T09:25:13.099573",
     "status": "completed"
    },
    "tags": []
   },
   "outputs": [],
   "source": [
    "y_pred = logreg.predict(x_test)"
   ]
  },
  {
   "cell_type": "markdown",
   "id": "68ddeabc",
   "metadata": {
    "id": "Mzx8odwisLdf",
    "papermill": {
     "duration": 0.051375,
     "end_time": "2023-10-25T09:25:13.271984",
     "exception": false,
     "start_time": "2023-10-25T09:25:13.220609",
     "status": "completed"
    },
    "tags": []
   },
   "source": [
    "**Classification Report**"
   ]
  },
  {
   "cell_type": "code",
   "execution_count": 72,
   "id": "746844d7",
   "metadata": {
    "id": "IIS4n721sMEI",
    "outputId": "77c682da-6020-4922-f8e3-a2e5ab7d76e9",
    "papermill": {
     "duration": 0.073521,
     "end_time": "2023-10-25T09:25:13.399372",
     "exception": false,
     "start_time": "2023-10-25T09:25:13.325851",
     "status": "completed"
    },
    "tags": []
   },
   "outputs": [
    {
     "name": "stdout",
     "output_type": "stream",
     "text": [
      "              precision    recall  f1-score   support\n",
      "\n",
      "           0       0.95      1.00      0.97       824\n",
      "           1       0.00      0.00      0.00        47\n",
      "\n",
      "    accuracy                           0.94       871\n",
      "   macro avg       0.47      0.50      0.49       871\n",
      "weighted avg       0.89      0.94      0.92       871\n",
      "\n"
     ]
    }
   ],
   "source": [
    "from sklearn.metrics import classification_report\n",
    "print(classification_report(y_test, y_pred))"
   ]
  },
  {
   "cell_type": "markdown",
   "id": "ab7c4e9d",
   "metadata": {
    "id": "f7ey1pEqsQL1",
    "papermill": {
     "duration": 0.052025,
     "end_time": "2023-10-25T09:25:13.504506",
     "exception": false,
     "start_time": "2023-10-25T09:25:13.452481",
     "status": "completed"
    },
    "tags": []
   },
   "source": [
    "**Confusion Matrix**"
   ]
  },
  {
   "cell_type": "code",
   "execution_count": 73,
   "id": "bf77ce18",
   "metadata": {
    "id": "dz-f7uFasQrd",
    "outputId": "deb34d1b-2b1e-4117-83dc-ddf07176966f",
    "papermill": {
     "duration": 0.068093,
     "end_time": "2023-10-25T09:25:13.624760",
     "exception": false,
     "start_time": "2023-10-25T09:25:13.556667",
     "status": "completed"
    },
    "tags": []
   },
   "outputs": [
    {
     "name": "stdout",
     "output_type": "stream",
     "text": [
      "0.9448909299655568\n"
     ]
    }
   ],
   "source": [
    "# Use score method to get accuracy of model\n",
    "score = logreg.score(x_test, y_test)\n",
    "print(score)"
   ]
  },
  {
   "cell_type": "code",
   "execution_count": 74,
   "id": "5b65a38a",
   "metadata": {
    "id": "IEUGtjBisUA6",
    "outputId": "67f36068-45df-414e-c15c-b9d7187838e8",
    "papermill": {
     "duration": 0.0663,
     "end_time": "2023-10-25T09:25:13.743840",
     "exception": false,
     "start_time": "2023-10-25T09:25:13.677540",
     "status": "completed"
    },
    "tags": []
   },
   "outputs": [
    {
     "data": {
      "text/plain": [
       "array([[823,   1],\n",
       "       [ 47,   0]], dtype=int64)"
      ]
     },
     "execution_count": 74,
     "metadata": {},
     "output_type": "execute_result"
    }
   ],
   "source": [
    "# import the metrics class\n",
    "from sklearn import metrics\n",
    "cnf_matrix = metrics.confusion_matrix(y_test, y_pred)\n",
    "cnf_matrix"
   ]
  },
  {
   "cell_type": "code",
   "execution_count": 75,
   "id": "ef734774",
   "metadata": {
    "id": "hsnS3tUjsann",
    "outputId": "3d0e9a70-0786-43f4-c630-048f9cc9a950",
    "papermill": {
     "duration": 0.434834,
     "end_time": "2023-10-25T09:25:14.231835",
     "exception": false,
     "start_time": "2023-10-25T09:25:13.797001",
     "status": "completed"
    },
    "tags": []
   },
   "outputs": [
    {
     "data": {
      "image/png": "[encoded data removed]",
      "text/plain": [
       "<Figure size 500x500 with 2 Axes>"
      ]
     },
     "metadata": {},
     "output_type": "display_data"
    }
   ],
   "source": [
    "plt.figure(figsize=(5,5))\n",
    "sns.heatmap(cnf_matrix, annot=True, fmt=\".3f\", linewidths=.5, square = True, cmap = 'Blues_r');\n",
    "plt.ylabel('Actual label');\n",
    "plt.xlabel('Predicted label');\n",
    "all_sample_title = 'Accuracy Score: {0}'.format(score)\n",
    "plt.title(all_sample_title, size = 15);"
   ]
  },
  {
   "cell_type": "markdown",
   "id": "84cd1f78",
   "metadata": {
    "id": "k_REbx8R4UK1",
    "papermill": {
     "duration": 0.052201,
     "end_time": "2023-10-25T09:25:14.338124",
     "exception": false,
     "start_time": "2023-10-25T09:25:14.285923",
     "status": "completed"
    },
    "tags": []
   },
   "source": [
    "# **KNeighbors Algorithm**"
   ]
  },
  {
   "cell_type": "code",
   "execution_count": 76,
   "id": "9fb5d271",
   "metadata": {
    "id": "tkNHW6Ee1eEm",
    "papermill": {
     "duration": 0.197048,
     "end_time": "2023-10-25T09:25:14.587621",
     "exception": false,
     "start_time": "2023-10-25T09:25:14.390573",
     "status": "completed"
    },
    "tags": []
   },
   "outputs": [],
   "source": [
    "from sklearn.neighbors import KNeighborsClassifier\n",
    "classifier = KNeighborsClassifier(n_neighbors=5,  p=2)"
   ]
  },
  {
   "cell_type": "code",
   "execution_count": 77,
   "id": "bbc3bf89",
   "metadata": {
    "id": "rVOD1A1w2GM3",
    "outputId": "760e87c9-3360-4ddd-8ecf-a306700dc653",
    "papermill": {
     "duration": 0.072098,
     "end_time": "2023-10-25T09:25:14.711518",
     "exception": false,
     "start_time": "2023-10-25T09:25:14.639420",
     "status": "completed"
    },
    "tags": []
   },
   "outputs": [
    {
     "data": {
      "text/html": [
       "<style>#sk-container-id-2 {color: black;}#sk-container-id-2 pre{padding: 0;}#sk-container-id-2 div.sk-toggleable {background-color: white;}#sk-container-id-2 label.sk-toggleable__label {cursor: pointer;display: block;width: 100%;margin-bottom: 0;padding: 0.3em;box-sizing: border-box;text-align: center;}#sk-container-id-2 label.sk-toggleable__label-arrow:before {content: \"▸\";float: left;margin-right: 0.25em;color: #696969;}#sk-container-id-2 label.sk-toggleable__label-arrow:hover:before {color: black;}#sk-container-id-2 div.sk-estimator:hover label.sk-toggleable__label-arrow:before {color: black;}#sk-container-id-2 div.sk-toggleable__content {max-height: 0;max-width: 0;overflow: hidden;text-align: left;background-color: #f0f8ff;}#sk-container-id-2 div.sk-toggleable__content pre {margin: 0.2em;color: black;border-radius: 0.25em;background-color: #f0f8ff;}#sk-container-id-2 input.sk-toggleable__control:checked~div.sk-toggleable__content {max-height: 200px;max-width: 100%;overflow: auto;}#sk-container-id-2 input.sk-toggleable__control:checked~label.sk-toggleable__label-arrow:before {content: \"▾\";}#sk-container-id-2 div.sk-estimator input.sk-toggleable__control:checked~label.sk-toggleable__label {background-color: #d4ebff;}#sk-container-id-2 div.sk-label input.sk-toggleable__control:checked~label.sk-toggleable__label {background-color: #d4ebff;}#sk-container-id-2 input.sk-hidden--visually {border: 0;clip: rect(1px 1px 1px 1px);clip: rect(1px, 1px, 1px, 1px);height: 1px;margin: -1px;overflow: hidden;padding: 0;position: absolute;width: 1px;}#sk-container-id-2 div.sk-estimator {font-family: monospace;background-color: #f0f8ff;border: 1px dotted black;border-radius: 0.25em;box-sizing: border-box;margin-bottom: 0.5em;}#sk-container-id-2 div.sk-estimator:hover {background-color: #d4ebff;}#sk-container-id-2 div.sk-parallel-item::after {content: \"\";width: 100%;border-bottom: 1px solid gray;flex-grow: 1;}#sk-container-id-2 div.sk-label:hover label.sk-toggleable__label {background-color: #d4ebff;}#sk-container-id-2 div.sk-serial::before {content: \"\";position: absolute;border-left: 1px solid gray;box-sizing: border-box;top: 0;bottom: 0;left: 50%;z-index: 0;}#sk-container-id-2 div.sk-serial {display: flex;flex-direction: column;align-items: center;background-color: white;padding-right: 0.2em;padding-left: 0.2em;position: relative;}#sk-container-id-2 div.sk-item {position: relative;z-index: 1;}#sk-container-id-2 div.sk-parallel {display: flex;align-items: stretch;justify-content: center;background-color: white;position: relative;}#sk-container-id-2 div.sk-item::before, #sk-container-id-2 div.sk-parallel-item::before {content: \"\";position: absolute;border-left: 1px solid gray;box-sizing: border-box;top: 0;bottom: 0;left: 50%;z-index: -1;}#sk-container-id-2 div.sk-parallel-item {display: flex;flex-direction: column;z-index: 1;position: relative;background-color: white;}#sk-container-id-2 div.sk-parallel-item:first-child::after {align-self: flex-end;width: 50%;}#sk-container-id-2 div.sk-parallel-item:last-child::after {align-self: flex-start;width: 50%;}#sk-container-id-2 div.sk-parallel-item:only-child::after {width: 0;}#sk-container-id-2 div.sk-dashed-wrapped {border: 1px dashed gray;margin: 0 0.4em 0.5em 0.4em;box-sizing: border-box;padding-bottom: 0.4em;background-color: white;}#sk-container-id-2 div.sk-label label {font-family: monospace;font-weight: bold;display: inline-block;line-height: 1.2em;}#sk-container-id-2 div.sk-label-container {text-align: center;}#sk-container-id-2 div.sk-container {/* jupyter's `normalize.less` sets `[hidden] { display: none; }` but bootstrap.min.css set `[hidden] { display: none !important; }` so we also need the `!important` here to be able to override the default hidden behavior on the sphinx rendered scikit-learn.org. See: https://github.com/scikit-learn/scikit-learn/issues/21755 */display: inline-block !important;position: relative;}#sk-container-id-2 div.sk-text-repr-fallback {display: none;}</style><div id=\"sk-container-id-2\" class=\"sk-top-container\"><div class=\"sk-text-repr-fallback\"><pre>KNeighborsClassifier()</pre><b>In a Jupyter environment, please rerun this cell to show the HTML representation or trust the notebook. <br />On GitHub, the HTML representation is unable to render, please try loading this page with nbviewer.org.</b></div><div class=\"sk-container\" hidden><div class=\"sk-item\"><div class=\"sk-estimator sk-toggleable\"><input class=\"sk-toggleable__control sk-hidden--visually\" id=\"sk-estimator-id-2\" type=\"checkbox\" checked><label for=\"sk-estimator-id-2\" class=\"sk-toggleable__label sk-toggleable__label-arrow\">KNeighborsClassifier</label><div class=\"sk-toggleable__content\"><pre>KNeighborsClassifier()</pre></div></div></div></div></div>"
      ],
      "text/plain": [
       "KNeighborsClassifier()"
      ]
     },
     "execution_count": 77,
     "metadata": {},
     "output_type": "execute_result"
    }
   ],
   "source": [
    "classifier.fit(x_train, y_train)"
   ]
  },
  {
   "cell_type": "code",
   "execution_count": 78,
   "id": "2da73bb0",
   "metadata": {
    "id": "OCGEUds-2NzN",
    "papermill": {
     "duration": 0.133098,
     "end_time": "2023-10-25T09:25:14.897481",
     "exception": false,
     "start_time": "2023-10-25T09:25:14.764383",
     "status": "completed"
    },
    "tags": []
   },
   "outputs": [],
   "source": [
    "y_pred = classifier.predict(x_test)\n"
   ]
  },
  {
   "cell_type": "code",
   "execution_count": 79,
   "id": "e2793ddf",
   "metadata": {
    "id": "k9APYs4g2Vix",
    "outputId": "39da1824-2ac7-48b6-b7b6-2d6d0c86acd5",
    "papermill": {
     "duration": 0.067842,
     "end_time": "2023-10-25T09:25:15.019106",
     "exception": false,
     "start_time": "2023-10-25T09:25:14.951264",
     "status": "completed"
    },
    "tags": []
   },
   "outputs": [
    {
     "data": {
      "text/plain": [
       "array([[812,  12],\n",
       "       [ 46,   1]], dtype=int64)"
      ]
     },
     "execution_count": 79,
     "metadata": {},
     "output_type": "execute_result"
    }
   ],
   "source": [
    "cm = metrics.confusion_matrix(y_test, y_pred)\n",
    "cm"
   ]
  },
  {
   "cell_type": "code",
   "execution_count": 80,
   "id": "cbcd9fe0",
   "metadata": {
    "id": "nezsJ1Bx2lwb",
    "outputId": "11e53b01-85ce-4104-8967-7c574572ed4d",
    "papermill": {
     "duration": 0.131073,
     "end_time": "2023-10-25T09:25:15.204096",
     "exception": false,
     "start_time": "2023-10-25T09:25:15.073023",
     "status": "completed"
    },
    "tags": []
   },
   "outputs": [
    {
     "name": "stdout",
     "output_type": "stream",
     "text": [
      "0.9334098737083811\n"
     ]
    }
   ],
   "source": [
    "from sklearn.metrics import accuracy_score\n",
    "score = classifier.score(x_test, y_test)\n",
    "print(score)"
   ]
  },
  {
   "cell_type": "code",
   "execution_count": null,
   "id": "fc74da65-d77d-46df-86d7-58fc28262d05",
   "metadata": {},
   "outputs": [],
   "source": []
  }
 ],
 "metadata": {
  "kernelspec": {
   "display_name": "Python 3 (ipykernel)",
   "language": "python",
   "name": "python3"
  },
  "language_info": {
   "codemirror_mode": {
    "name": "ipython",
    "version": 3
   },
   "file_extension": ".py",
   "mimetype": "text/x-python",
   "name": "python",
   "nbconvert_exporter": "python",
   "pygments_lexer": "ipython3",
   "version": "3.11.4"
  },
  "papermill": {
   "default_parameters": {},
   "duration": 25.688079,
   "end_time": "2023-10-25T09:25:16.401724",
   "environment_variables": {},
   "exception": null,
   "input_path": "__notebook__.ipynb",
   "output_path": "__notebook__.ipynb",
   "parameters": {},
   "start_time": "2023-10-25T09:24:50.713645",
   "version": "2.4.0"
  }
 },
 "nbformat": 4,
 "nbformat_minor": 5
}
